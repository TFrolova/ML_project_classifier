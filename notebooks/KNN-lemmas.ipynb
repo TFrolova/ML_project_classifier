{
 "cells": [
  {
   "cell_type": "code",
   "execution_count": 26,
   "id": "2c9b369c",
   "metadata": {},
   "outputs": [],
   "source": [
    "import pandas as pd\n",
    "# читаем таблицу из файла\n",
    "sent_lf_list_df = pd.read_csv(\"lf_corpus_lemmas.csv\", encoding=\"utf-8\", sep=\",\") # есть другие аргументы: sep, decimal и др."
   ]
  },
  {
   "cell_type": "code",
   "execution_count": 27,
   "id": "ff80131b",
   "metadata": {},
   "outputs": [
    {
     "data": {
      "text/html": [
       "<div>\n",
       "<style scoped>\n",
       "    .dataframe tbody tr th:only-of-type {\n",
       "        vertical-align: middle;\n",
       "    }\n",
       "\n",
       "    .dataframe tbody tr th {\n",
       "        vertical-align: top;\n",
       "    }\n",
       "\n",
       "    .dataframe thead th {\n",
       "        text-align: right;\n",
       "    }\n",
       "</style>\n",
       "<table border=\"1\" class=\"dataframe\">\n",
       "  <thead>\n",
       "    <tr style=\"text-align: right;\">\n",
       "      <th></th>\n",
       "      <th>Unnamed: 0</th>\n",
       "      <th>phrase</th>\n",
       "      <th>lf-label</th>\n",
       "    </tr>\n",
       "  </thead>\n",
       "  <tbody>\n",
       "    <tr>\n",
       "      <th>0</th>\n",
       "      <td>0</td>\n",
       "      <td>В КРЕМЛЬ И В БЕЛЫЙ ДОМ НА ПРОШЛЫЙ НЕДЕЛЯ ОБОС...</td>\n",
       "      <td>1</td>\n",
       "    </tr>\n",
       "    <tr>\n",
       "      <th>1</th>\n",
       "      <td>1</td>\n",
       "      <td>ЭКОНОМИЧЕСКИЙ СОВЕТНИК ПРЕЗИДЕНТ ПУТИН АКАДЕМ...</td>\n",
       "      <td>1</td>\n",
       "    </tr>\n",
       "    <tr>\n",
       "      <th>2</th>\n",
       "      <td>2</td>\n",
       "      <td>ГЛАЗЬЕВ В ЧАСТНОСТИ КРИТИКОВАТЬ ДЕНЕЖНЫЙ КРЕД...</td>\n",
       "      <td>0</td>\n",
       "    </tr>\n",
       "    <tr>\n",
       "      <th>3</th>\n",
       "      <td>3</td>\n",
       "      <td>ИМЕННО ЭТОТ МЕХАНИЗМ ЛИШАТЬ СТРАНА ИНВЕСТИЦИЯ...</td>\n",
       "      <td>0</td>\n",
       "    </tr>\n",
       "    <tr>\n",
       "      <th>4</th>\n",
       "      <td>4</td>\n",
       "      <td>В 60-СТРАНИЧНЫЙ ДОКЛАД АКАДЕМИК ГЛАЗЬЕВ НЕ ПР...</td>\n",
       "      <td>0</td>\n",
       "    </tr>\n",
       "    <tr>\n",
       "      <th>...</th>\n",
       "      <td>...</td>\n",
       "      <td>...</td>\n",
       "      <td>...</td>\n",
       "    </tr>\n",
       "    <tr>\n",
       "      <th>214253</th>\n",
       "      <td>214253</td>\n",
       "      <td>СЛИШКОМ МНОГО ЗА ПОСЛЕДНИЙ ГОД СТАНОВИТЬСЯ ГО...</td>\n",
       "      <td>0</td>\n",
       "    </tr>\n",
       "    <tr>\n",
       "      <th>214254</th>\n",
       "      <td>214254</td>\n",
       "      <td>А СКОЛЬКО ЧЕЛОВЕК ЧАС СИДЕТЬ В ОСТАНАВЛИВАТЬС...</td>\n",
       "      <td>1</td>\n",
       "    </tr>\n",
       "    <tr>\n",
       "      <th>214255</th>\n",
       "      <td>214255</td>\n",
       "      <td>ВОЛНА СУДЕБНЫЙ ИСК ПРОСТО СМЫВАТЬ БЫ И ГОСПОД...</td>\n",
       "      <td>0</td>\n",
       "    </tr>\n",
       "    <tr>\n",
       "      <th>214256</th>\n",
       "      <td>214256</td>\n",
       "      <td>ПОКА ЖЕ У ЭНЕРГОПЫЛЕСОС ЕЖЕГОДНО ВЫКАЧИВАТЬ И...</td>\n",
       "      <td>0</td>\n",
       "    </tr>\n",
       "    <tr>\n",
       "      <th>214257</th>\n",
       "      <td>214257</td>\n",
       "      <td>НАСЕЛЕНИЕ ДАВАТЬ ТОЛЬКО ОДИН СВОБОДА РУКА ЧТО...</td>\n",
       "      <td>1</td>\n",
       "    </tr>\n",
       "  </tbody>\n",
       "</table>\n",
       "<p>214258 rows × 3 columns</p>\n",
       "</div>"
      ],
      "text/plain": [
       "        Unnamed: 0                                             phrase  \\\n",
       "0                0   В КРЕМЛЬ И В БЕЛЫЙ ДОМ НА ПРОШЛЫЙ НЕДЕЛЯ ОБОС...   \n",
       "1                1   ЭКОНОМИЧЕСКИЙ СОВЕТНИК ПРЕЗИДЕНТ ПУТИН АКАДЕМ...   \n",
       "2                2   ГЛАЗЬЕВ В ЧАСТНОСТИ КРИТИКОВАТЬ ДЕНЕЖНЫЙ КРЕД...   \n",
       "3                3   ИМЕННО ЭТОТ МЕХАНИЗМ ЛИШАТЬ СТРАНА ИНВЕСТИЦИЯ...   \n",
       "4                4   В 60-СТРАНИЧНЫЙ ДОКЛАД АКАДЕМИК ГЛАЗЬЕВ НЕ ПР...   \n",
       "...            ...                                                ...   \n",
       "214253      214253   СЛИШКОМ МНОГО ЗА ПОСЛЕДНИЙ ГОД СТАНОВИТЬСЯ ГО...   \n",
       "214254      214254   А СКОЛЬКО ЧЕЛОВЕК ЧАС СИДЕТЬ В ОСТАНАВЛИВАТЬС...   \n",
       "214255      214255   ВОЛНА СУДЕБНЫЙ ИСК ПРОСТО СМЫВАТЬ БЫ И ГОСПОД...   \n",
       "214256      214256   ПОКА ЖЕ У ЭНЕРГОПЫЛЕСОС ЕЖЕГОДНО ВЫКАЧИВАТЬ И...   \n",
       "214257      214257   НАСЕЛЕНИЕ ДАВАТЬ ТОЛЬКО ОДИН СВОБОДА РУКА ЧТО...   \n",
       "\n",
       "        lf-label  \n",
       "0              1  \n",
       "1              1  \n",
       "2              0  \n",
       "3              0  \n",
       "4              0  \n",
       "...          ...  \n",
       "214253         0  \n",
       "214254         1  \n",
       "214255         0  \n",
       "214256         0  \n",
       "214257         1  \n",
       "\n",
       "[214258 rows x 3 columns]"
      ]
     },
     "execution_count": 27,
     "metadata": {},
     "output_type": "execute_result"
    }
   ],
   "source": [
    "sent_lf_list_df[\"lf-label\"]=sent_lf_list_df[\"lf-label\"].map({'LF':1,'notLF':0}) # в первой колонке переименуем значения 'spam' в 1  и 'ham' в 0\n",
    "\n",
    "sent_lf_list_df"
   ]
  },
  {
   "cell_type": "code",
   "execution_count": 28,
   "id": "6ce9811c",
   "metadata": {},
   "outputs": [
    {
     "name": "stdout",
     "output_type": "stream",
     "text": [
      "        Unnamed: 0                                             phrase  \\\n",
      "0                0   В КРЕМЛЬ И В БЕЛЫЙ ДОМ НА ПРОШЛЫЙ НЕДЕЛЯ ОБОС...   \n",
      "1                1   ЭКОНОМИЧЕСКИЙ СОВЕТНИК ПРЕЗИДЕНТ ПУТИН АКАДЕМ...   \n",
      "2                2   ГЛАЗЬЕВ В ЧАСТНОСТИ КРИТИКОВАТЬ ДЕНЕЖНЫЙ КРЕД...   \n",
      "3                3   ИМЕННО ЭТОТ МЕХАНИЗМ ЛИШАТЬ СТРАНА ИНВЕСТИЦИЯ...   \n",
      "4                4   В 60-СТРАНИЧНЫЙ ДОКЛАД АКАДЕМИК ГЛАЗЬЕВ НЕ ПР...   \n",
      "...            ...                                                ...   \n",
      "214253      214253   СЛИШКОМ МНОГО ЗА ПОСЛЕДНИЙ ГОД СТАНОВИТЬСЯ ГО...   \n",
      "214254      214254   А СКОЛЬКО ЧЕЛОВЕК ЧАС СИДЕТЬ В ОСТАНАВЛИВАТЬС...   \n",
      "214255      214255   ВОЛНА СУДЕБНЫЙ ИСК ПРОСТО СМЫВАТЬ БЫ И ГОСПОД...   \n",
      "214256      214256   ПОКА ЖЕ У ЭНЕРГОПЫЛЕСОС ЕЖЕГОДНО ВЫКАЧИВАТЬ И...   \n",
      "214257      214257   НАСЕЛЕНИЕ ДАВАТЬ ТОЛЬКО ОДИН СВОБОДА РУКА ЧТО...   \n",
      "\n",
      "        lf-label  \n",
      "0              1  \n",
      "1              1  \n",
      "2              0  \n",
      "3              0  \n",
      "4              0  \n",
      "...          ...  \n",
      "214253         0  \n",
      "214254         1  \n",
      "214255         0  \n",
      "214256         0  \n",
      "214257         1  \n",
      "\n",
      "[214258 rows x 3 columns]\n"
     ]
    }
   ],
   "source": [
    "print(sent_lf_list_df)"
   ]
  },
  {
   "cell_type": "code",
   "execution_count": 29,
   "id": "c9ebc6bb",
   "metadata": {},
   "outputs": [],
   "source": [
    "from sklearn import feature_extraction"
   ]
  },
  {
   "cell_type": "code",
   "execution_count": 30,
   "id": "82ab9df7",
   "metadata": {},
   "outputs": [
    {
     "data": {
      "text/plain": [
       "sklearn.feature_extraction.text.CountVectorizer"
      ]
     },
     "execution_count": 30,
     "metadata": {},
     "output_type": "execute_result"
    }
   ],
   "source": [
    "f = feature_extraction.text.CountVectorizer(stop_words = ['и', 'а', 'я', 'как', 'если', 'всегда', 'что', 'не', 'это'])\n",
    "type(f)"
   ]
  },
  {
   "cell_type": "code",
   "execution_count": 31,
   "id": "90a5b963",
   "metadata": {},
   "outputs": [],
   "source": [
    "X = f.fit_transform(sent_lf_list_df[\"phrase\"])"
   ]
  },
  {
   "cell_type": "code",
   "execution_count": 32,
   "id": "15b871ef",
   "metadata": {},
   "outputs": [],
   "source": [
    "from sklearn import model_selection"
   ]
  },
  {
   "cell_type": "code",
   "execution_count": 33,
   "id": "3a6a633e",
   "metadata": {},
   "outputs": [
    {
     "name": "stdout",
     "output_type": "stream",
     "text": [
      "(171406, 54433) (42852, 54433)\n"
     ]
    },
    {
     "data": {
      "text/plain": [
       "49953"
      ]
     },
     "execution_count": 33,
     "metadata": {},
     "output_type": "execute_result"
    }
   ],
   "source": [
    "# новые переменные\n",
    "X_train, X_test, y_train, y_test = model_selection.train_test_split(X, sent_lf_list_df['lf-label'], test_size=0.2, random_state=50)\n",
    "\n",
    "print(X_train.shape, X_test.shape)\n",
    "sum(y_train == 1)"
   ]
  },
  {
   "cell_type": "code",
   "execution_count": 9,
   "id": "c556480e",
   "metadata": {},
   "outputs": [],
   "source": [
    "from sklearn import neighbors, metrics"
   ]
  },
  {
   "cell_type": "code",
   "execution_count": 34,
   "id": "e6a46921",
   "metadata": {},
   "outputs": [],
   "source": [
    "# как посчитать для одного соседа\n",
    "knn = neighbors.KNeighborsClassifier(n_neighbors=1)\n",
    "knn.fit(X_train, y_train)\n",
    "y_pred = knn.predict(X_test)\n",
    "#    accuracy = metrics.accuracy_score(y_test, y_pred)\n",
    "    #print(\"k =\", k, \"Accuracy: \", accuracy)"
   ]
  },
  {
   "cell_type": "code",
   "execution_count": 11,
   "id": "5b42445b",
   "metadata": {},
   "outputs": [
    {
     "data": {
      "text/plain": [
       "array([0, 0, 0, ..., 1, 0, 0])"
      ]
     },
     "execution_count": 11,
     "metadata": {},
     "output_type": "execute_result"
    }
   ],
   "source": [
    "y_pred"
   ]
  },
  {
   "cell_type": "code",
   "execution_count": 13,
   "id": "762a3e5f",
   "metadata": {},
   "outputs": [],
   "source": [
    "# как оценить качество\n",
    "accuracy = metrics.accuracy_score(y_test, y_pred)\n",
    "precision = metrics.accuracy_score(y_test, y_pred)    \n",
    "recall = metrics.recall_score(y_test, y_pred)"
   ]
  },
  {
   "cell_type": "code",
   "execution_count": 14,
   "id": "fe72935e",
   "metadata": {},
   "outputs": [
    {
     "name": "stdout",
     "output_type": "stream",
     "text": [
      "0.9436899094558013\n",
      "0.9436899094558013\n",
      "0.8159320663162152\n"
     ]
    }
   ],
   "source": [
    "print(accuracy)\n",
    "print(precision)\n",
    "print(recall)"
   ]
  },
  {
   "cell_type": "code",
   "execution_count": 15,
   "id": "a39c8235",
   "metadata": {},
   "outputs": [
    {
     "name": "stdout",
     "output_type": "stream",
     "text": [
      "k = 1 Accuracy:  0.9436899094558013\n",
      "k = 2 Accuracy:  0.7339680761691403\n",
      "k = 3 Accuracy:  0.7374218239522076\n",
      "k = 4 Accuracy:  0.7276906562120787\n",
      "k = 5 Accuracy:  0.7319144964062354\n",
      "k = 6 Accuracy:  0.7173527489965462\n",
      "k = 7 Accuracy:  0.7186595724820312\n",
      "k = 8 Accuracy:  0.7160225893773919\n",
      "k = 9 Accuracy:  0.71683935405582\n"
     ]
    }
   ],
   "source": [
    "# что будет, если менять k\n",
    "for k in range (1, 10):\n",
    "    knn = neighbors.KNeighborsClassifier(n_neighbors=k)\n",
    "    knn.fit(X_train, y_train)\n",
    "    y_pred = knn.predict(X_test)\n",
    "    accuracy = metrics.accuracy_score(y_test, y_pred)\n",
    "    print(\"k =\", k, \"Accuracy: \", accuracy)"
   ]
  },
  {
   "cell_type": "code",
   "execution_count": 16,
   "id": "ef48ef5f",
   "metadata": {
    "scrolled": true
   },
   "outputs": [
    {
     "name": "stdout",
     "output_type": "stream",
     "text": [
      "k = 1 Precision:  0.9866027772345003\n",
      "k = 2 Precision:  0.9438822447102115\n",
      "k = 3 Precision:  0.8189111747851003\n",
      "k = 4 Precision:  0.9285714285714286\n",
      "k = 5 Precision:  0.904147465437788\n",
      "k = 6 Precision:  0.8355437665782494\n",
      "k = 7 Precision:  0.8212058212058212\n",
      "k = 8 Precision:  0.8858267716535433\n",
      "k = 9 Precision:  0.8553846153846154\n"
     ]
    }
   ],
   "source": [
    "for k in range (1, 10):\n",
    "    knn = neighbors.KNeighborsClassifier(n_neighbors=k)\n",
    "    knn.fit(X_train, y_train)\n",
    "    y_pred = knn.predict(X_test)\n",
    "    precision = metrics.precision_score(y_test, y_pred)\n",
    "    print(\"k =\", k, \"Precision: \", precision)"
   ]
  },
  {
   "cell_type": "code",
   "execution_count": 17,
   "id": "236289b3",
   "metadata": {},
   "outputs": [
    {
     "name": "stdout",
     "output_type": "stream",
     "text": [
      "k = 1 Recall:  0.8159320663162152\n",
      "k = 2 Recall:  0.08297614233724221\n",
      "k = 3 Recall:  0.11556813586736757\n",
      "k = 4 Recall:  0.060978568540234535\n",
      "k = 5 Recall:  0.07933683784876668\n",
      "k = 6 Recall:  0.02547513141932875\n",
      "k = 7 Recall:  0.03194500606550748\n",
      "k = 8 Recall:  0.01819652244237768\n",
      "k = 9 Recall:  0.022482814395471087\n"
     ]
    }
   ],
   "source": [
    "for k in range (1, 10):\n",
    "    knn = neighbors.KNeighborsClassifier(n_neighbors=k)\n",
    "    knn.fit(X_train, y_train)\n",
    "    y_pred = knn.predict(X_test)\n",
    "    recall = metrics.recall_score(y_test, y_pred)\n",
    "    print(\"k =\", k, \"Recall: \", recall)"
   ]
  },
  {
   "cell_type": "markdown",
   "id": "f6391afc",
   "metadata": {},
   "source": [
    "имеет смысл брать k = 1, увеличивать толку нет ни для какой метрики, перезапустим ячейку выше с k = 1"
   ]
  },
  {
   "cell_type": "code",
   "execution_count": 36,
   "id": "6215989d",
   "metadata": {},
   "outputs": [
    {
     "name": "stdout",
     "output_type": "stream",
     "text": [
      "[[30350   137]\n",
      " [ 2276 10089]]\n"
     ]
    }
   ],
   "source": [
    "print(metrics.confusion_matrix(y_test, y_pred))"
   ]
  },
  {
   "cell_type": "code",
   "execution_count": 35,
   "id": "39acc5a8",
   "metadata": {},
   "outputs": [
    {
     "name": "stdout",
     "output_type": "stream",
     "text": [
      "              precision    recall  f1-score   support\n",
      "\n",
      "           0       0.93      1.00      0.96     30487\n",
      "           1       0.99      0.82      0.89     12365\n",
      "\n",
      "    accuracy                           0.94     42852\n",
      "   macro avg       0.96      0.91      0.93     42852\n",
      "weighted avg       0.95      0.94      0.94     42852\n",
      "\n"
     ]
    }
   ],
   "source": [
    "print(metrics.classification_report(y_test, y_pred))"
   ]
  },
  {
   "cell_type": "code",
   "execution_count": null,
   "id": "8c9b8a68",
   "metadata": {},
   "outputs": [],
   "source": []
  }
 ],
 "metadata": {
  "kernelspec": {
   "display_name": "Python 3 (ipykernel)",
   "language": "python",
   "name": "python3"
  },
  "language_info": {
   "codemirror_mode": {
    "name": "ipython",
    "version": 3
   },
   "file_extension": ".py",
   "mimetype": "text/x-python",
   "name": "python",
   "nbconvert_exporter": "python",
   "pygments_lexer": "ipython3",
   "version": "3.10.10"
  }
 },
 "nbformat": 4,
 "nbformat_minor": 5
}
