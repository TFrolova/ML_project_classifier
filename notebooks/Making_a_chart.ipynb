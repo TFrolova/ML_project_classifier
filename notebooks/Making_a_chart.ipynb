{
 "cells": [
  {
   "cell_type": "markdown",
   "id": "88e30a54",
   "metadata": {},
   "source": [
    "# Как устроены датасеты"
   ]
  },
  {
   "cell_type": "code",
   "execution_count": 1,
   "id": "63e4c967",
   "metadata": {},
   "outputs": [],
   "source": [
    "import pandas as pd"
   ]
  },
  {
   "cell_type": "code",
   "execution_count": 2,
   "id": "d11dd49d",
   "metadata": {},
   "outputs": [],
   "source": [
    "# читаем таблицу из файла\n",
    "lf_2003_small = pd.read_csv(\"lf_text_2003_without_loc.csv\", encoding=\"utf-8\", sep=\",\") # есть другие аргументы: sep, decimal и др."
   ]
  },
  {
   "cell_type": "code",
   "execution_count": 3,
   "id": "fbde4759",
   "metadata": {},
   "outputs": [
    {
     "data": {
      "text/html": [
       "<div>\n",
       "<style scoped>\n",
       "    .dataframe tbody tr th:only-of-type {\n",
       "        vertical-align: middle;\n",
       "    }\n",
       "\n",
       "    .dataframe tbody tr th {\n",
       "        vertical-align: top;\n",
       "    }\n",
       "\n",
       "    .dataframe thead th {\n",
       "        text-align: right;\n",
       "    }\n",
       "</style>\n",
       "<table border=\"1\" class=\"dataframe\">\n",
       "  <thead>\n",
       "    <tr style=\"text-align: right;\">\n",
       "      <th></th>\n",
       "      <th>Unnamed: 0</th>\n",
       "      <th>phrase</th>\n",
       "      <th>lf-label</th>\n",
       "    </tr>\n",
       "  </thead>\n",
       "  <tbody>\n",
       "    <tr>\n",
       "      <th>0</th>\n",
       "      <td>0</td>\n",
       "      <td>Диссидентство коллег телевизионщиков заканчив...</td>\n",
       "      <td>LF</td>\n",
       "    </tr>\n",
       "    <tr>\n",
       "      <th>1</th>\n",
       "      <td>1</td>\n",
       "      <td>В 99 случаях из 100</td>\n",
       "      <td>notLF</td>\n",
       "    </tr>\n",
       "    <tr>\n",
       "      <th>2</th>\n",
       "      <td>2</td>\n",
       "      <td>Даже пропавший казалось бы Норкин в эфире нев...</td>\n",
       "      <td>LF</td>\n",
       "    </tr>\n",
       "    <tr>\n",
       "      <th>3</th>\n",
       "      <td>3</td>\n",
       "      <td>Парфенов подтверждает эту статистику</td>\n",
       "      <td>notLF</td>\n",
       "    </tr>\n",
       "    <tr>\n",
       "      <th>4</th>\n",
       "      <td>4</td>\n",
       "      <td>Единственное исключение Сергей Доренко</td>\n",
       "      <td>notLF</td>\n",
       "    </tr>\n",
       "    <tr>\n",
       "      <th>5</th>\n",
       "      <td>5</td>\n",
       "      <td>Он портит мне картину современного диссидентс...</td>\n",
       "      <td>notLF</td>\n",
       "    </tr>\n",
       "    <tr>\n",
       "      <th>6</th>\n",
       "      <td>6</td>\n",
       "      <td>Но не посадили а он не выходит в эфир и все в...</td>\n",
       "      <td>LF</td>\n",
       "    </tr>\n",
       "    <tr>\n",
       "      <th>7</th>\n",
       "      <td>7</td>\n",
       "      <td>Видимо так договорились</td>\n",
       "      <td>notLF</td>\n",
       "    </tr>\n",
       "    <tr>\n",
       "      <th>8</th>\n",
       "      <td>8</td>\n",
       "      <td>Или таков был его выбор</td>\n",
       "      <td>notLF</td>\n",
       "    </tr>\n",
       "    <tr>\n",
       "      <th>9</th>\n",
       "      <td>9</td>\n",
       "      <td>Выбор всех остальных на экране</td>\n",
       "      <td>notLF</td>\n",
       "    </tr>\n",
       "  </tbody>\n",
       "</table>\n",
       "</div>"
      ],
      "text/plain": [
       "   Unnamed: 0                                             phrase lf-label\n",
       "0           0   Диссидентство коллег телевизионщиков заканчив...       LF\n",
       "1           1                                В 99 случаях из 100    notLF\n",
       "2           2   Даже пропавший казалось бы Норкин в эфире нев...       LF\n",
       "3           3               Парфенов подтверждает эту статистику    notLF\n",
       "4           4             Единственное исключение Сергей Доренко    notLF\n",
       "5           5   Он портит мне картину современного диссидентс...    notLF\n",
       "6           6   Но не посадили а он не выходит в эфир и все в...       LF\n",
       "7           7                            Видимо так договорились    notLF\n",
       "8           8                            Или таков был его выбор    notLF\n",
       "9           9                     Выбор всех остальных на экране    notLF"
      ]
     },
     "execution_count": 3,
     "metadata": {},
     "output_type": "execute_result"
    }
   ],
   "source": [
    "lf_2003_small.head(10)"
   ]
  },
  {
   "cell_type": "code",
   "execution_count": 4,
   "id": "d2dc9b77",
   "metadata": {},
   "outputs": [
    {
     "data": {
      "text/html": [
       "<div>\n",
       "<style scoped>\n",
       "    .dataframe tbody tr th:only-of-type {\n",
       "        vertical-align: middle;\n",
       "    }\n",
       "\n",
       "    .dataframe tbody tr th {\n",
       "        vertical-align: top;\n",
       "    }\n",
       "\n",
       "    .dataframe thead th {\n",
       "        text-align: right;\n",
       "    }\n",
       "</style>\n",
       "<table border=\"1\" class=\"dataframe\">\n",
       "  <thead>\n",
       "    <tr style=\"text-align: right;\">\n",
       "      <th></th>\n",
       "      <th>Unnamed: 0</th>\n",
       "      <th>phrase</th>\n",
       "      <th>lf-label</th>\n",
       "    </tr>\n",
       "  </thead>\n",
       "  <tbody>\n",
       "    <tr>\n",
       "      <th>0</th>\n",
       "      <td>0</td>\n",
       "      <td>Диссидентство коллег телевизионщиков заканчив...</td>\n",
       "      <td>LF</td>\n",
       "    </tr>\n",
       "    <tr>\n",
       "      <th>1</th>\n",
       "      <td>1</td>\n",
       "      <td>В 99 случаях из 100</td>\n",
       "      <td>notLF</td>\n",
       "    </tr>\n",
       "    <tr>\n",
       "      <th>2</th>\n",
       "      <td>2</td>\n",
       "      <td>Даже пропавший казалось бы Норкин в эфире нев...</td>\n",
       "      <td>LF</td>\n",
       "    </tr>\n",
       "    <tr>\n",
       "      <th>3</th>\n",
       "      <td>3</td>\n",
       "      <td>Парфенов подтверждает эту статистику</td>\n",
       "      <td>notLF</td>\n",
       "    </tr>\n",
       "    <tr>\n",
       "      <th>4</th>\n",
       "      <td>4</td>\n",
       "      <td>Единственное исключение Сергей Доренко</td>\n",
       "      <td>notLF</td>\n",
       "    </tr>\n",
       "    <tr>\n",
       "      <th>...</th>\n",
       "      <td>...</td>\n",
       "      <td>...</td>\n",
       "      <td>...</td>\n",
       "    </tr>\n",
       "    <tr>\n",
       "      <th>9138</th>\n",
       "      <td>9138</td>\n",
       "      <td>Например директор Института глобального клима...</td>\n",
       "      <td>LF</td>\n",
       "    </tr>\n",
       "    <tr>\n",
       "      <th>9139</th>\n",
       "      <td>9139</td>\n",
       "      <td>Одни циклы исчисляются столетиями другие None...</td>\n",
       "      <td>notLF</td>\n",
       "    </tr>\n",
       "    <tr>\n",
       "      <th>9140</th>\n",
       "      <td>9140</td>\n",
       "      <td>И для каждого из них по мнению Юрия Израэля х...</td>\n",
       "      <td>notLF</td>\n",
       "    </tr>\n",
       "    <tr>\n",
       "      <th>9141</th>\n",
       "      <td>9141</td>\n",
       "      <td>Например последний ураган в США это явление х...</td>\n",
       "      <td>LF</td>\n",
       "    </tr>\n",
       "    <tr>\n",
       "      <th>9142</th>\n",
       "      <td>9142</td>\n",
       "      <td>Антропогенные факторы как полагает известный ...</td>\n",
       "      <td>notLF</td>\n",
       "    </tr>\n",
       "  </tbody>\n",
       "</table>\n",
       "<p>9143 rows × 3 columns</p>\n",
       "</div>"
      ],
      "text/plain": [
       "      Unnamed: 0                                             phrase lf-label\n",
       "0              0   Диссидентство коллег телевизионщиков заканчив...       LF\n",
       "1              1                                В 99 случаях из 100    notLF\n",
       "2              2   Даже пропавший казалось бы Норкин в эфире нев...       LF\n",
       "3              3               Парфенов подтверждает эту статистику    notLF\n",
       "4              4             Единственное исключение Сергей Доренко    notLF\n",
       "...          ...                                                ...      ...\n",
       "9138        9138   Например директор Института глобального клима...       LF\n",
       "9139        9139   Одни циклы исчисляются столетиями другие None...    notLF\n",
       "9140        9140   И для каждого из них по мнению Юрия Израэля х...    notLF\n",
       "9141        9141   Например последний ураган в США это явление х...       LF\n",
       "9142        9142   Антропогенные факторы как полагает известный ...    notLF\n",
       "\n",
       "[9143 rows x 3 columns]"
      ]
     },
     "metadata": {},
     "output_type": "display_data"
    }
   ],
   "source": [
    "display(lf_2003_small)\n",
    "# data.head(10)"
   ]
  },
  {
   "cell_type": "code",
   "execution_count": 5,
   "id": "f361866f",
   "metadata": {},
   "outputs": [],
   "source": [
    "import matplotlib.pyplot as plt"
   ]
  },
  {
   "cell_type": "code",
   "execution_count": 6,
   "id": "87d9d3a8",
   "metadata": {},
   "outputs": [
    {
     "name": "stdout",
     "output_type": "stream",
     "text": [
      "notLF    7523\n",
      "LF       1620\n",
      "Name: lf-label, dtype: int64\n"
     ]
    },
    {
     "data": {
      "image/png": "[encoded data removed]",
      "text/plain": [
       "<Figure size 640x480 with 1 Axes>"
      ]
     },
     "metadata": {},
     "output_type": "display_data"
    }
   ],
   "source": [
    "classes = pd.value_counts(lf_2003_small[\"lf-label\"])\n",
    "\n",
    "print(classes)\n",
    "\n",
    "classes.plot(kind = 'pie',  autopct='%0.f%%') \n",
    "# про string formatting https://realpython.com/python-string-formatting/\n",
    "\n",
    "plt.title(\"Classes distribution\")\n",
    "\n",
    "plt.ylabel('')\n",
    "\n",
    "plt.show()"
   ]
  },
  {
   "cell_type": "code",
   "execution_count": 7,
   "id": "09ffd719",
   "metadata": {},
   "outputs": [],
   "source": [
    "# читаем таблицу из файла\n",
    "lf_2003_big = pd.read_csv(\"lf_text_2003.csv\", encoding=\"utf-8\", sep=\",\") # есть другие аргументы: sep, decimal и др."
   ]
  },
  {
   "cell_type": "code",
   "execution_count": 8,
   "id": "448a9d03",
   "metadata": {},
   "outputs": [
    {
     "name": "stdout",
     "output_type": "stream",
     "text": [
      "notLF    6743\n",
      "LF       2400\n",
      "Name: lf-label, dtype: int64\n"
     ]
    },
    {
     "data": {
      "image/png": "[encoded data removed]",
      "text/plain": [
       "<Figure size 640x480 with 1 Axes>"
      ]
     },
     "metadata": {},
     "output_type": "display_data"
    }
   ],
   "source": [
    "classes = pd.value_counts(lf_2003_big[\"lf-label\"])\n",
    "\n",
    "print(classes)\n",
    "\n",
    "classes.plot(kind = 'pie',  autopct='%0.f%%') \n",
    "# про string formatting https://realpython.com/python-string-formatting/\n",
    "\n",
    "plt.title(\"Classes distribution\")\n",
    "\n",
    "plt.ylabel('')\n",
    "\n",
    "plt.show()"
   ]
  },
  {
   "cell_type": "code",
   "execution_count": 9,
   "id": "aca59fa2",
   "metadata": {},
   "outputs": [],
   "source": [
    "# читаем таблицу из файла\n",
    "lf_corpus_small = pd.read_csv(\"lf_text_corpus_without_loc.csv\", encoding=\"utf-8\", sep=\",\") # есть другие аргументы: sep, decimal и др."
   ]
  },
  {
   "cell_type": "code",
   "execution_count": 10,
   "id": "90f78883",
   "metadata": {},
   "outputs": [
    {
     "name": "stdout",
     "output_type": "stream",
     "text": [
      "notLF    93034\n",
      "LF       23238\n",
      "Name: lf-label, dtype: int64\n"
     ]
    },
    {
     "data": {
      "image/png": "[encoded data removed]",
      "text/plain": [
       "<Figure size 640x480 with 1 Axes>"
      ]
     },
     "metadata": {},
     "output_type": "display_data"
    }
   ],
   "source": [
    "classes = pd.value_counts(lf_corpus_small[\"lf-label\"])\n",
    "\n",
    "print(classes)\n",
    "\n",
    "classes.plot(kind = 'pie',  autopct='%0.f%%') \n",
    "# про string formatting https://realpython.com/python-string-formatting/\n",
    "\n",
    "plt.title(\"Classes distribution\")\n",
    "\n",
    "plt.ylabel('')\n",
    "\n",
    "plt.show()"
   ]
  },
  {
   "cell_type": "code",
   "execution_count": 11,
   "id": "84b7d085",
   "metadata": {},
   "outputs": [],
   "source": [
    "# читаем таблицу из файла\n",
    "lf_corpus_big = pd.read_csv(\"lf_text_corpus.csv\", encoding=\"utf-8\", sep=\",\") # есть другие аргументы: sep, decimal и др."
   ]
  },
  {
   "cell_type": "code",
   "execution_count": 12,
   "id": "d0d1bc5b",
   "metadata": {},
   "outputs": [
    {
     "name": "stdout",
     "output_type": "stream",
     "text": [
      "notLF    82713\n",
      "LF       33559\n",
      "Name: lf-label, dtype: int64\n"
     ]
    },
    {
     "data": {
      "image/png": "[encoded data removed]",
      "text/plain": [
       "<Figure size 640x480 with 1 Axes>"
      ]
     },
     "metadata": {},
     "output_type": "display_data"
    }
   ],
   "source": [
    "classes = pd.value_counts(lf_corpus_big[\"lf-label\"])\n",
    "\n",
    "print(classes)\n",
    "\n",
    "classes.plot(kind = 'pie',  autopct='%0.f%%') \n",
    "# про string formatting https://realpython.com/python-string-formatting/\n",
    "\n",
    "plt.title(\"Classes distribution\")\n",
    "\n",
    "plt.ylabel('')\n",
    "\n",
    "plt.show()"
   ]
  },
  {
   "cell_type": "code",
   "execution_count": null,
   "id": "fb6ae029",
   "metadata": {},
   "outputs": [],
   "source": []
  }
 ],
 "metadata": {
  "kernelspec": {
   "display_name": "Python 3 (ipykernel)",
   "language": "python",
   "name": "python3"
  },
  "language_info": {
   "codemirror_mode": {
    "name": "ipython",
    "version": 3
   },
   "file_extension": ".py",
   "mimetype": "text/x-python",
   "name": "python",
   "nbconvert_exporter": "python",
   "pygments_lexer": "ipython3",
   "version": "3.10.10"
  }
 },
 "nbformat": 4,
 "nbformat_minor": 5
}
