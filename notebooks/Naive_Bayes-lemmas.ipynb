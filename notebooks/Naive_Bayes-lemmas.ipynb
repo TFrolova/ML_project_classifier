{
 "cells": [
  {
   "cell_type": "code",
   "execution_count": 1,
   "id": "56c8b09f",
   "metadata": {},
   "outputs": [],
   "source": [
    "from sklearn import feature_extraction"
   ]
  },
  {
   "cell_type": "code",
   "execution_count": 2,
   "id": "8ddcbe59",
   "metadata": {},
   "outputs": [
    {
     "data": {
      "text/plain": [
       "sklearn.feature_extraction.text.CountVectorizer"
      ]
     },
     "execution_count": 2,
     "metadata": {},
     "output_type": "execute_result"
    }
   ],
   "source": [
    "# делаем такой векторизатор, который будет векторизовать тексты, вычеркивая стоп слова - делать tf\n",
    "# не включаю в стоп-список предлоги, потому что они могут иметь какой-то вес\n",
    "f = feature_extraction.text.CountVectorizer(stop_words = ['и', 'а', 'я', 'как', 'если', 'всегда', 'что', 'не', 'это'])\n",
    "type(f)"
   ]
  },
  {
   "cell_type": "code",
   "execution_count": 3,
   "id": "efc48378",
   "metadata": {},
   "outputs": [],
   "source": [
    "import pandas as pd"
   ]
  },
  {
   "cell_type": "code",
   "execution_count": 4,
   "id": "f77052fc",
   "metadata": {},
   "outputs": [],
   "source": [
    "# читаем таблицу из файла\n",
    "sent_lf_list_df = pd.read_csv(\"lf_corpus_lemmas.csv\", encoding=\"utf-8\", sep=\",\") # есть другие аргументы: sep, decimal и др."
   ]
  },
  {
   "cell_type": "code",
   "execution_count": 5,
   "id": "26dfa7b6",
   "metadata": {},
   "outputs": [
    {
     "data": {
      "text/html": [
       "<div>\n",
       "<style scoped>\n",
       "    .dataframe tbody tr th:only-of-type {\n",
       "        vertical-align: middle;\n",
       "    }\n",
       "\n",
       "    .dataframe tbody tr th {\n",
       "        vertical-align: top;\n",
       "    }\n",
       "\n",
       "    .dataframe thead th {\n",
       "        text-align: right;\n",
       "    }\n",
       "</style>\n",
       "<table border=\"1\" class=\"dataframe\">\n",
       "  <thead>\n",
       "    <tr style=\"text-align: right;\">\n",
       "      <th></th>\n",
       "      <th>Unnamed: 0</th>\n",
       "      <th>phrase</th>\n",
       "      <th>lf-label</th>\n",
       "    </tr>\n",
       "  </thead>\n",
       "  <tbody>\n",
       "    <tr>\n",
       "      <th>0</th>\n",
       "      <td>0</td>\n",
       "      <td>В КРЕМЛЬ И В БЕЛЫЙ ДОМ НА ПРОШЛЫЙ НЕДЕЛЯ ОБОС...</td>\n",
       "      <td>LF</td>\n",
       "    </tr>\n",
       "    <tr>\n",
       "      <th>1</th>\n",
       "      <td>1</td>\n",
       "      <td>ЭКОНОМИЧЕСКИЙ СОВЕТНИК ПРЕЗИДЕНТ ПУТИН АКАДЕМ...</td>\n",
       "      <td>LF</td>\n",
       "    </tr>\n",
       "    <tr>\n",
       "      <th>2</th>\n",
       "      <td>2</td>\n",
       "      <td>ГЛАЗЬЕВ В ЧАСТНОСТИ КРИТИКОВАТЬ ДЕНЕЖНЫЙ КРЕД...</td>\n",
       "      <td>notLF</td>\n",
       "    </tr>\n",
       "    <tr>\n",
       "      <th>3</th>\n",
       "      <td>3</td>\n",
       "      <td>ИМЕННО ЭТОТ МЕХАНИЗМ ЛИШАТЬ СТРАНА ИНВЕСТИЦИЯ...</td>\n",
       "      <td>notLF</td>\n",
       "    </tr>\n",
       "    <tr>\n",
       "      <th>4</th>\n",
       "      <td>4</td>\n",
       "      <td>В 60-СТРАНИЧНЫЙ ДОКЛАД АКАДЕМИК ГЛАЗЬЕВ НЕ ПР...</td>\n",
       "      <td>notLF</td>\n",
       "    </tr>\n",
       "    <tr>\n",
       "      <th>...</th>\n",
       "      <td>...</td>\n",
       "      <td>...</td>\n",
       "      <td>...</td>\n",
       "    </tr>\n",
       "    <tr>\n",
       "      <th>214253</th>\n",
       "      <td>214253</td>\n",
       "      <td>СЛИШКОМ МНОГО ЗА ПОСЛЕДНИЙ ГОД СТАНОВИТЬСЯ ГО...</td>\n",
       "      <td>notLF</td>\n",
       "    </tr>\n",
       "    <tr>\n",
       "      <th>214254</th>\n",
       "      <td>214254</td>\n",
       "      <td>А СКОЛЬКО ЧЕЛОВЕК ЧАС СИДЕТЬ В ОСТАНАВЛИВАТЬС...</td>\n",
       "      <td>LF</td>\n",
       "    </tr>\n",
       "    <tr>\n",
       "      <th>214255</th>\n",
       "      <td>214255</td>\n",
       "      <td>ВОЛНА СУДЕБНЫЙ ИСК ПРОСТО СМЫВАТЬ БЫ И ГОСПОД...</td>\n",
       "      <td>notLF</td>\n",
       "    </tr>\n",
       "    <tr>\n",
       "      <th>214256</th>\n",
       "      <td>214256</td>\n",
       "      <td>ПОКА ЖЕ У ЭНЕРГОПЫЛЕСОС ЕЖЕГОДНО ВЫКАЧИВАТЬ И...</td>\n",
       "      <td>notLF</td>\n",
       "    </tr>\n",
       "    <tr>\n",
       "      <th>214257</th>\n",
       "      <td>214257</td>\n",
       "      <td>НАСЕЛЕНИЕ ДАВАТЬ ТОЛЬКО ОДИН СВОБОДА РУКА ЧТО...</td>\n",
       "      <td>LF</td>\n",
       "    </tr>\n",
       "  </tbody>\n",
       "</table>\n",
       "<p>214258 rows × 3 columns</p>\n",
       "</div>"
      ],
      "text/plain": [
       "        Unnamed: 0                                             phrase lf-label\n",
       "0                0   В КРЕМЛЬ И В БЕЛЫЙ ДОМ НА ПРОШЛЫЙ НЕДЕЛЯ ОБОС...       LF\n",
       "1                1   ЭКОНОМИЧЕСКИЙ СОВЕТНИК ПРЕЗИДЕНТ ПУТИН АКАДЕМ...       LF\n",
       "2                2   ГЛАЗЬЕВ В ЧАСТНОСТИ КРИТИКОВАТЬ ДЕНЕЖНЫЙ КРЕД...    notLF\n",
       "3                3   ИМЕННО ЭТОТ МЕХАНИЗМ ЛИШАТЬ СТРАНА ИНВЕСТИЦИЯ...    notLF\n",
       "4                4   В 60-СТРАНИЧНЫЙ ДОКЛАД АКАДЕМИК ГЛАЗЬЕВ НЕ ПР...    notLF\n",
       "...            ...                                                ...      ...\n",
       "214253      214253   СЛИШКОМ МНОГО ЗА ПОСЛЕДНИЙ ГОД СТАНОВИТЬСЯ ГО...    notLF\n",
       "214254      214254   А СКОЛЬКО ЧЕЛОВЕК ЧАС СИДЕТЬ В ОСТАНАВЛИВАТЬС...       LF\n",
       "214255      214255   ВОЛНА СУДЕБНЫЙ ИСК ПРОСТО СМЫВАТЬ БЫ И ГОСПОД...    notLF\n",
       "214256      214256   ПОКА ЖЕ У ЭНЕРГОПЫЛЕСОС ЕЖЕГОДНО ВЫКАЧИВАТЬ И...    notLF\n",
       "214257      214257   НАСЕЛЕНИЕ ДАВАТЬ ТОЛЬКО ОДИН СВОБОДА РУКА ЧТО...       LF\n",
       "\n",
       "[214258 rows x 3 columns]"
      ]
     },
     "execution_count": 5,
     "metadata": {},
     "output_type": "execute_result"
    }
   ],
   "source": [
    "sent_lf_list_df"
   ]
  },
  {
   "cell_type": "code",
   "execution_count": 6,
   "id": "f9bd25c1",
   "metadata": {},
   "outputs": [],
   "source": [
    "X = f.fit_transform(sent_lf_list_df[\"phrase\"])"
   ]
  },
  {
   "cell_type": "code",
   "execution_count": 7,
   "id": "1a1e4b08",
   "metadata": {},
   "outputs": [
    {
     "name": "stdout",
     "output_type": "stream",
     "text": [
      "['выдача' 'выдающийся' 'выдвигать' 'выдвигаться' 'выдвиженец' 'выдвижение'\n",
      " 'выдвижной' 'выдворять' 'выдел' 'выделение' 'выделять' 'выделяться'\n",
      " 'выдергивать' 'выдерживать' 'выдержка' 'выдирать' 'выдомский' 'выдох'\n",
      " 'выдра' 'выдувать']\n"
     ]
    }
   ],
   "source": [
    "print(f.get_feature_names_out()[10000:10020]) # посмотрим на признаки,  например на 20 из них "
   ]
  },
  {
   "cell_type": "code",
   "execution_count": 8,
   "id": "05950860",
   "metadata": {},
   "outputs": [],
   "source": [
    "#что здесь происходит не то? если брать весь корпус\n",
    "# display(X.shape)\n",
    "#display(X.toarray())"
   ]
  },
  {
   "cell_type": "code",
   "execution_count": 9,
   "id": "31dc73b1",
   "metadata": {},
   "outputs": [
    {
     "data": {
      "text/plain": [
       "(214258, 54433)"
      ]
     },
     "metadata": {},
     "output_type": "display_data"
    }
   ],
   "source": [
    "display(X.shape)"
   ]
  },
  {
   "cell_type": "code",
   "execution_count": 10,
   "id": "c62c8b38",
   "metadata": {},
   "outputs": [
    {
     "data": {
      "text/html": [
       "<div>\n",
       "<style scoped>\n",
       "    .dataframe tbody tr th:only-of-type {\n",
       "        vertical-align: middle;\n",
       "    }\n",
       "\n",
       "    .dataframe tbody tr th {\n",
       "        vertical-align: top;\n",
       "    }\n",
       "\n",
       "    .dataframe thead th {\n",
       "        text-align: right;\n",
       "    }\n",
       "</style>\n",
       "<table border=\"1\" class=\"dataframe\">\n",
       "  <thead>\n",
       "    <tr style=\"text-align: right;\">\n",
       "      <th></th>\n",
       "      <th>Unnamed: 0</th>\n",
       "      <th>phrase</th>\n",
       "      <th>lf-label</th>\n",
       "    </tr>\n",
       "  </thead>\n",
       "  <tbody>\n",
       "    <tr>\n",
       "      <th>0</th>\n",
       "      <td>0</td>\n",
       "      <td>В КРЕМЛЬ И В БЕЛЫЙ ДОМ НА ПРОШЛЫЙ НЕДЕЛЯ ОБОС...</td>\n",
       "      <td>1</td>\n",
       "    </tr>\n",
       "    <tr>\n",
       "      <th>1</th>\n",
       "      <td>1</td>\n",
       "      <td>ЭКОНОМИЧЕСКИЙ СОВЕТНИК ПРЕЗИДЕНТ ПУТИН АКАДЕМ...</td>\n",
       "      <td>1</td>\n",
       "    </tr>\n",
       "    <tr>\n",
       "      <th>2</th>\n",
       "      <td>2</td>\n",
       "      <td>ГЛАЗЬЕВ В ЧАСТНОСТИ КРИТИКОВАТЬ ДЕНЕЖНЫЙ КРЕД...</td>\n",
       "      <td>0</td>\n",
       "    </tr>\n",
       "    <tr>\n",
       "      <th>3</th>\n",
       "      <td>3</td>\n",
       "      <td>ИМЕННО ЭТОТ МЕХАНИЗМ ЛИШАТЬ СТРАНА ИНВЕСТИЦИЯ...</td>\n",
       "      <td>0</td>\n",
       "    </tr>\n",
       "    <tr>\n",
       "      <th>4</th>\n",
       "      <td>4</td>\n",
       "      <td>В 60-СТРАНИЧНЫЙ ДОКЛАД АКАДЕМИК ГЛАЗЬЕВ НЕ ПР...</td>\n",
       "      <td>0</td>\n",
       "    </tr>\n",
       "    <tr>\n",
       "      <th>...</th>\n",
       "      <td>...</td>\n",
       "      <td>...</td>\n",
       "      <td>...</td>\n",
       "    </tr>\n",
       "    <tr>\n",
       "      <th>214253</th>\n",
       "      <td>214253</td>\n",
       "      <td>СЛИШКОМ МНОГО ЗА ПОСЛЕДНИЙ ГОД СТАНОВИТЬСЯ ГО...</td>\n",
       "      <td>0</td>\n",
       "    </tr>\n",
       "    <tr>\n",
       "      <th>214254</th>\n",
       "      <td>214254</td>\n",
       "      <td>А СКОЛЬКО ЧЕЛОВЕК ЧАС СИДЕТЬ В ОСТАНАВЛИВАТЬС...</td>\n",
       "      <td>1</td>\n",
       "    </tr>\n",
       "    <tr>\n",
       "      <th>214255</th>\n",
       "      <td>214255</td>\n",
       "      <td>ВОЛНА СУДЕБНЫЙ ИСК ПРОСТО СМЫВАТЬ БЫ И ГОСПОД...</td>\n",
       "      <td>0</td>\n",
       "    </tr>\n",
       "    <tr>\n",
       "      <th>214256</th>\n",
       "      <td>214256</td>\n",
       "      <td>ПОКА ЖЕ У ЭНЕРГОПЫЛЕСОС ЕЖЕГОДНО ВЫКАЧИВАТЬ И...</td>\n",
       "      <td>0</td>\n",
       "    </tr>\n",
       "    <tr>\n",
       "      <th>214257</th>\n",
       "      <td>214257</td>\n",
       "      <td>НАСЕЛЕНИЕ ДАВАТЬ ТОЛЬКО ОДИН СВОБОДА РУКА ЧТО...</td>\n",
       "      <td>1</td>\n",
       "    </tr>\n",
       "  </tbody>\n",
       "</table>\n",
       "<p>214258 rows × 3 columns</p>\n",
       "</div>"
      ],
      "text/plain": [
       "        Unnamed: 0                                             phrase  \\\n",
       "0                0   В КРЕМЛЬ И В БЕЛЫЙ ДОМ НА ПРОШЛЫЙ НЕДЕЛЯ ОБОС...   \n",
       "1                1   ЭКОНОМИЧЕСКИЙ СОВЕТНИК ПРЕЗИДЕНТ ПУТИН АКАДЕМ...   \n",
       "2                2   ГЛАЗЬЕВ В ЧАСТНОСТИ КРИТИКОВАТЬ ДЕНЕЖНЫЙ КРЕД...   \n",
       "3                3   ИМЕННО ЭТОТ МЕХАНИЗМ ЛИШАТЬ СТРАНА ИНВЕСТИЦИЯ...   \n",
       "4                4   В 60-СТРАНИЧНЫЙ ДОКЛАД АКАДЕМИК ГЛАЗЬЕВ НЕ ПР...   \n",
       "...            ...                                                ...   \n",
       "214253      214253   СЛИШКОМ МНОГО ЗА ПОСЛЕДНИЙ ГОД СТАНОВИТЬСЯ ГО...   \n",
       "214254      214254   А СКОЛЬКО ЧЕЛОВЕК ЧАС СИДЕТЬ В ОСТАНАВЛИВАТЬС...   \n",
       "214255      214255   ВОЛНА СУДЕБНЫЙ ИСК ПРОСТО СМЫВАТЬ БЫ И ГОСПОД...   \n",
       "214256      214256   ПОКА ЖЕ У ЭНЕРГОПЫЛЕСОС ЕЖЕГОДНО ВЫКАЧИВАТЬ И...   \n",
       "214257      214257   НАСЕЛЕНИЕ ДАВАТЬ ТОЛЬКО ОДИН СВОБОДА РУКА ЧТО...   \n",
       "\n",
       "        lf-label  \n",
       "0              1  \n",
       "1              1  \n",
       "2              0  \n",
       "3              0  \n",
       "4              0  \n",
       "...          ...  \n",
       "214253         0  \n",
       "214254         1  \n",
       "214255         0  \n",
       "214256         0  \n",
       "214257         1  \n",
       "\n",
       "[214258 rows x 3 columns]"
      ]
     },
     "execution_count": 10,
     "metadata": {},
     "output_type": "execute_result"
    }
   ],
   "source": [
    "sent_lf_list_df[\"lf-label\"]=sent_lf_list_df[\"lf-label\"].map({'LF':1,'notLF':0}) # в первой колонке переименуем значения 'spam' в 1  и 'ham' в 0\n",
    "sent_lf_list_df"
   ]
  },
  {
   "cell_type": "code",
   "execution_count": 11,
   "id": "cc41402c",
   "metadata": {},
   "outputs": [],
   "source": [
    "from sklearn import model_selection"
   ]
  },
  {
   "cell_type": "code",
   "execution_count": 12,
   "id": "deefa03a",
   "metadata": {},
   "outputs": [
    {
     "name": "stdout",
     "output_type": "stream",
     "text": [
      "(171406, 54433) (42852, 54433)\n"
     ]
    }
   ],
   "source": [
    "# новые переменные\n",
    "X_train, X_test, y_train, y_test = model_selection.train_test_split(X, sent_lf_list_df['lf-label'], test_size=0.2, random_state=50)\n",
    "print(X_train.shape, X_test.shape)"
   ]
  },
  {
   "cell_type": "code",
   "execution_count": 13,
   "id": "6565b60e",
   "metadata": {},
   "outputs": [
    {
     "name": "stdout",
     "output_type": "stream",
     "text": [
      "В тренировочном кусочке lf набралось  49953\n",
      "В тренировочном кусочке не lf набралось  121453\n",
      "49953\n",
      "В тестовом кусочке lf набралось  12365\n",
      "В тестовом кусочке не lf набралось  30487\n",
      "12365\n"
     ]
    }
   ],
   "source": [
    "#Смотрим, как распределены lf и не lf в тестовом и тренировочном кусочке\n",
    "print('В тренировочном кусочке lf набралось ', sum(y_train == 1))\n",
    "print('В тренировочном кусочке не lf набралось ', sum(y_train == 0))\n",
    "print(sum(y_train))\n",
    "print('В тестовом кусочке lf набралось ', sum(y_test == 1))\n",
    "print('В тестовом кусочке не lf набралось ', sum(y_test == 0))\n",
    "print(sum(y_test))"
   ]
  },
  {
   "cell_type": "code",
   "execution_count": 14,
   "id": "2b594ec7",
   "metadata": {},
   "outputs": [],
   "source": [
    "# еще раз сравниваю кусочки, уже на картинке\n",
    "import matplotlib.pyplot as plt"
   ]
  },
  {
   "cell_type": "code",
   "execution_count": 15,
   "id": "acc2d18d",
   "metadata": {},
   "outputs": [
    {
     "name": "stdout",
     "output_type": "stream",
     "text": [
      "0    121453\n",
      "1     49953\n",
      "Name: lf-label, dtype: int64\n"
     ]
    },
    {
     "data": {
      "image/png": "[encoded data removed]",
      "text/plain": [
       "<Figure size 640x480 with 1 Axes>"
      ]
     },
     "metadata": {},
     "output_type": "display_data"
    }
   ],
   "source": [
    "classes = pd.value_counts(y_train)\n",
    "\n",
    "print(classes)\n",
    "\n",
    "classes.plot(kind = 'pie',  autopct='%0.f%%') \n",
    "# про string formatting https://realpython.com/python-string-formatting/\n",
    "\n",
    "plt.title(\"Classes distribution\")\n",
    "\n",
    "plt.ylabel('')\n",
    "\n",
    "plt.show()"
   ]
  },
  {
   "cell_type": "code",
   "execution_count": 16,
   "id": "2220e332",
   "metadata": {},
   "outputs": [
    {
     "name": "stdout",
     "output_type": "stream",
     "text": [
      "0    30487\n",
      "1    12365\n",
      "Name: lf-label, dtype: int64\n"
     ]
    },
    {
     "data": {
      "image/png": "[encoded data removed]",
      "text/plain": [
       "<Figure size 640x480 with 1 Axes>"
      ]
     },
     "metadata": {},
     "output_type": "display_data"
    }
   ],
   "source": [
    "classes = pd.value_counts(y_test)\n",
    "\n",
    "print(classes)\n",
    "\n",
    "classes.plot(kind = 'pie',  autopct='%0.f%%') \n",
    "# про string formatting https://realpython.com/python-string-formatting/\n",
    "\n",
    "plt.title(\"Classes distribution\")\n",
    "\n",
    "plt.ylabel('')\n",
    "\n",
    "plt.show()"
   ]
  },
  {
   "cell_type": "code",
   "execution_count": 17,
   "id": "e14c527d",
   "metadata": {},
   "outputs": [
    {
     "name": "stdout",
     "output_type": "stream",
     "text": [
      "(171406,) (42852,)\n"
     ]
    }
   ],
   "source": [
    "# количество всех строк, как lf, так и не lf\n",
    "print(y_train.shape, y_test.shape) # размерности таргета (y)"
   ]
  },
  {
   "cell_type": "code",
   "execution_count": 18,
   "id": "d45950a9",
   "metadata": {},
   "outputs": [],
   "source": [
    "import numpy as np"
   ]
  },
  {
   "cell_type": "code",
   "execution_count": 19,
   "id": "672a2fdb",
   "metadata": {},
   "outputs": [
    {
     "name": "stdout",
     "output_type": "stream",
     "text": [
      "182\n"
     ]
    }
   ],
   "source": [
    "list_alpha = np.arange(1/100000, 20, 0.11) \n",
    "#возьмем лист равномерно распределенных значений от 1/100000 до 20\n",
    "#можно выбрать другие числа,эти были выбраны экспериментально\n",
    "print(len(list_alpha))"
   ]
  },
  {
   "cell_type": "code",
   "execution_count": 20,
   "id": "496d7263",
   "metadata": {},
   "outputs": [],
   "source": [
    "score_train = np.zeros(len(list_alpha)) # accuracy on train set\n",
    "score_test = np.zeros(len(list_alpha)) #accuracy on test set\n",
    "recall_test = np.zeros(len(list_alpha)) # recall on test\n",
    "precision_test= np.zeros(len(list_alpha)) # precision on test"
   ]
  },
  {
   "cell_type": "code",
   "execution_count": 21,
   "id": "42187556",
   "metadata": {},
   "outputs": [],
   "source": [
    "from sklearn import naive_bayes, metrics"
   ]
  },
  {
   "cell_type": "code",
   "execution_count": 22,
   "id": "49d2c7bd",
   "metadata": {},
   "outputs": [],
   "source": [
    "count = 0 \n",
    "for alpha in list_alpha: # для каждого значения в списке альф\n",
    "    bayes = naive_bayes.MultinomialNB(alpha=alpha) # вызываем модель\n",
    "    bayes.fit(X_train, y_train) # тренируем модель\n",
    "    \n",
    "    score_train[count] = bayes.score(X_train, y_train) # итерируемся по индексу в листе, добавляем значения accuracy on train\n",
    "\n",
    "    score_test[count]= bayes.score(X_test, y_test) # то же самое,но для accuracy на тестовой выборке\n",
    " \n",
    "    # а теперь для precision и recall\n",
    "    recall_test[count] = metrics.recall_score(y_test, bayes.predict(X_test))\n",
    "\n",
    "    precision_test[count] = metrics.precision_score(y_test, bayes.predict(X_test))\n",
    "    \n",
    "    count = count + 1 # после одной итерации, делаем новый шаг,  чтобы пройтись по всем alpha"
   ]
  },
  {
   "cell_type": "code",
   "execution_count": 23,
   "id": "57e7950b",
   "metadata": {},
   "outputs": [
    {
     "data": {
      "text/html": [
       "<div>\n",
       "<style scoped>\n",
       "    .dataframe tbody tr th:only-of-type {\n",
       "        vertical-align: middle;\n",
       "    }\n",
       "\n",
       "    .dataframe tbody tr th {\n",
       "        vertical-align: top;\n",
       "    }\n",
       "\n",
       "    .dataframe thead th {\n",
       "        text-align: right;\n",
       "    }\n",
       "</style>\n",
       "<table border=\"1\" class=\"dataframe\">\n",
       "  <thead>\n",
       "    <tr style=\"text-align: right;\">\n",
       "      <th></th>\n",
       "      <th>alpha</th>\n",
       "      <th>Train Accuracy</th>\n",
       "      <th>Test Accuracy</th>\n",
       "      <th>Test Recall</th>\n",
       "      <th>Test Precision</th>\n",
       "    </tr>\n",
       "  </thead>\n",
       "  <tbody>\n",
       "    <tr>\n",
       "      <th>0</th>\n",
       "      <td>0.00001</td>\n",
       "      <td>0.839825</td>\n",
       "      <td>0.797559</td>\n",
       "      <td>0.637849</td>\n",
       "      <td>0.652681</td>\n",
       "    </tr>\n",
       "    <tr>\n",
       "      <th>1</th>\n",
       "      <td>0.11001</td>\n",
       "      <td>0.833576</td>\n",
       "      <td>0.790815</td>\n",
       "      <td>0.622240</td>\n",
       "      <td>0.641862</td>\n",
       "    </tr>\n",
       "    <tr>\n",
       "      <th>2</th>\n",
       "      <td>0.22001</td>\n",
       "      <td>0.830187</td>\n",
       "      <td>0.788225</td>\n",
       "      <td>0.615528</td>\n",
       "      <td>0.637865</td>\n",
       "    </tr>\n",
       "    <tr>\n",
       "      <th>3</th>\n",
       "      <td>0.33001</td>\n",
       "      <td>0.827672</td>\n",
       "      <td>0.785494</td>\n",
       "      <td>0.609462</td>\n",
       "      <td>0.633331</td>\n",
       "    </tr>\n",
       "    <tr>\n",
       "      <th>4</th>\n",
       "      <td>0.44001</td>\n",
       "      <td>0.825216</td>\n",
       "      <td>0.783977</td>\n",
       "      <td>0.603720</td>\n",
       "      <td>0.631450</td>\n",
       "    </tr>\n",
       "    <tr>\n",
       "      <th>5</th>\n",
       "      <td>0.55001</td>\n",
       "      <td>0.823478</td>\n",
       "      <td>0.782764</td>\n",
       "      <td>0.598949</td>\n",
       "      <td>0.629976</td>\n",
       "    </tr>\n",
       "    <tr>\n",
       "      <th>6</th>\n",
       "      <td>0.66001</td>\n",
       "      <td>0.821943</td>\n",
       "      <td>0.781667</td>\n",
       "      <td>0.594420</td>\n",
       "      <td>0.628689</td>\n",
       "    </tr>\n",
       "    <tr>\n",
       "      <th>7</th>\n",
       "      <td>0.77001</td>\n",
       "      <td>0.820537</td>\n",
       "      <td>0.781317</td>\n",
       "      <td>0.591185</td>\n",
       "      <td>0.628763</td>\n",
       "    </tr>\n",
       "    <tr>\n",
       "      <th>8</th>\n",
       "      <td>0.88001</td>\n",
       "      <td>0.819050</td>\n",
       "      <td>0.780314</td>\n",
       "      <td>0.586656</td>\n",
       "      <td>0.627672</td>\n",
       "    </tr>\n",
       "    <tr>\n",
       "      <th>9</th>\n",
       "      <td>0.99001</td>\n",
       "      <td>0.817719</td>\n",
       "      <td>0.779334</td>\n",
       "      <td>0.582531</td>\n",
       "      <td>0.626511</td>\n",
       "    </tr>\n",
       "  </tbody>\n",
       "</table>\n",
       "</div>"
      ],
      "text/plain": [
       "     alpha  Train Accuracy  Test Accuracy  Test Recall  Test Precision\n",
       "0  0.00001        0.839825       0.797559     0.637849        0.652681\n",
       "1  0.11001        0.833576       0.790815     0.622240        0.641862\n",
       "2  0.22001        0.830187       0.788225     0.615528        0.637865\n",
       "3  0.33001        0.827672       0.785494     0.609462        0.633331\n",
       "4  0.44001        0.825216       0.783977     0.603720        0.631450\n",
       "5  0.55001        0.823478       0.782764     0.598949        0.629976\n",
       "6  0.66001        0.821943       0.781667     0.594420        0.628689\n",
       "7  0.77001        0.820537       0.781317     0.591185        0.628763\n",
       "8  0.88001        0.819050       0.780314     0.586656        0.627672\n",
       "9  0.99001        0.817719       0.779334     0.582531        0.626511"
      ]
     },
     "metadata": {},
     "output_type": "display_data"
    },
    {
     "data": {
      "text/plain": [
       "(182, 5)"
      ]
     },
     "metadata": {},
     "output_type": "display_data"
    }
   ],
   "source": [
    "matrix = np.matrix(np.c_[list_alpha, score_train, score_test, recall_test, precision_test])\n",
    "\n",
    "models = pd.DataFrame(data = matrix,\n",
    "                      columns = ['alpha',\n",
    "                                 'Train Accuracy',\n",
    "                                 'Test Accuracy',\n",
    "                                 'Test Recall',\n",
    "                                 'Test Precision'])\n",
    "display(models.head(10))\n",
    "\n",
    "display(matrix.shape)"
   ]
  },
  {
   "cell_type": "code",
   "execution_count": 24,
   "id": "70951add",
   "metadata": {},
   "outputs": [
    {
     "data": {
      "text/plain": [
       "alpha             0.000010\n",
       "Train Accuracy    0.839825\n",
       "Test Accuracy     0.797559\n",
       "Test Recall       0.637849\n",
       "Test Precision    0.652681\n",
       "Name: 0, dtype: float64"
      ]
     },
     "metadata": {},
     "output_type": "display_data"
    },
    {
     "data": {
      "text/plain": [
       "alpha             19.360010\n",
       "Train Accuracy     0.753918\n",
       "Test Accuracy      0.749183\n",
       "Test Recall        0.206793\n",
       "Test Precision     0.731198\n",
       "Name: 176, dtype: float64"
      ]
     },
     "metadata": {},
     "output_type": "display_data"
    },
    {
     "data": {
      "text/plain": [
       "alpha             0.000010\n",
       "Train Accuracy    0.839825\n",
       "Test Accuracy     0.797559\n",
       "Test Recall       0.637849\n",
       "Test Precision    0.652681\n",
       "Name: 0, dtype: float64"
      ]
     },
     "metadata": {},
     "output_type": "display_data"
    }
   ],
   "source": [
    "# какие модели лучше всех по каждому параметру?\n",
    "best_recall_index = models['Test Recall'].idxmax()\n",
    "display(models.iloc[best_recall_index])\n",
    "\n",
    "best_precision_index = models['Test Precision'].idxmax()\n",
    "display(models.iloc[best_precision_index])\n",
    "\n",
    "best_accuracy_index = models['Test Accuracy'].idxmax()\n",
    "display(models.iloc[best_accuracy_index])"
   ]
  },
  {
   "cell_type": "code",
   "execution_count": null,
   "id": "0524a612",
   "metadata": {},
   "outputs": [],
   "source": [
    "# самый высокий показатель precision дает отстойный recall. Кажется, что для текущей задачи recall важнее, чем Precision\n"
   ]
  },
  {
   "cell_type": "code",
   "execution_count": 25,
   "id": "bd058f42",
   "metadata": {},
   "outputs": [
    {
     "data": {
      "text/html": [
       "<div>\n",
       "<style scoped>\n",
       "    .dataframe tbody tr th:only-of-type {\n",
       "        vertical-align: middle;\n",
       "    }\n",
       "\n",
       "    .dataframe tbody tr th {\n",
       "        vertical-align: top;\n",
       "    }\n",
       "\n",
       "    .dataframe thead th {\n",
       "        text-align: right;\n",
       "    }\n",
       "</style>\n",
       "<table border=\"1\" class=\"dataframe\">\n",
       "  <thead>\n",
       "    <tr style=\"text-align: right;\">\n",
       "      <th></th>\n",
       "      <th>alpha</th>\n",
       "      <th>Train Accuracy</th>\n",
       "      <th>Test Accuracy</th>\n",
       "      <th>Test Recall</th>\n",
       "      <th>Test Precision</th>\n",
       "    </tr>\n",
       "  </thead>\n",
       "  <tbody>\n",
       "    <tr>\n",
       "      <th>0</th>\n",
       "      <td>0.00001</td>\n",
       "      <td>0.839825</td>\n",
       "      <td>0.797559</td>\n",
       "      <td>0.637849</td>\n",
       "      <td>0.652681</td>\n",
       "    </tr>\n",
       "    <tr>\n",
       "      <th>1</th>\n",
       "      <td>0.11001</td>\n",
       "      <td>0.833576</td>\n",
       "      <td>0.790815</td>\n",
       "      <td>0.622240</td>\n",
       "      <td>0.641862</td>\n",
       "    </tr>\n",
       "    <tr>\n",
       "      <th>2</th>\n",
       "      <td>0.22001</td>\n",
       "      <td>0.830187</td>\n",
       "      <td>0.788225</td>\n",
       "      <td>0.615528</td>\n",
       "      <td>0.637865</td>\n",
       "    </tr>\n",
       "    <tr>\n",
       "      <th>3</th>\n",
       "      <td>0.33001</td>\n",
       "      <td>0.827672</td>\n",
       "      <td>0.785494</td>\n",
       "      <td>0.609462</td>\n",
       "      <td>0.633331</td>\n",
       "    </tr>\n",
       "    <tr>\n",
       "      <th>4</th>\n",
       "      <td>0.44001</td>\n",
       "      <td>0.825216</td>\n",
       "      <td>0.783977</td>\n",
       "      <td>0.603720</td>\n",
       "      <td>0.631450</td>\n",
       "    </tr>\n",
       "  </tbody>\n",
       "</table>\n",
       "</div>"
      ],
      "text/plain": [
       "     alpha  Train Accuracy  Test Accuracy  Test Recall  Test Precision\n",
       "0  0.00001        0.839825       0.797559     0.637849        0.652681\n",
       "1  0.11001        0.833576       0.790815     0.622240        0.641862\n",
       "2  0.22001        0.830187       0.788225     0.615528        0.637865\n",
       "3  0.33001        0.827672       0.785494     0.609462        0.633331\n",
       "4  0.44001        0.825216       0.783977     0.603720        0.631450"
      ]
     },
     "execution_count": 25,
     "metadata": {},
     "output_type": "execute_result"
    }
   ],
   "source": [
    "# что\n",
    "models[models['Test Recall']>0.6].sort_values(by=\"Test Precision\", ascending = False)"
   ]
  },
  {
   "cell_type": "code",
   "execution_count": 37,
   "id": "0d72720e",
   "metadata": {},
   "outputs": [
    {
     "data": {
      "text/html": [
       "<style>#sk-container-id-3 {color: black;background-color: white;}#sk-container-id-3 pre{padding: 0;}#sk-container-id-3 div.sk-toggleable {background-color: white;}#sk-container-id-3 label.sk-toggleable__label {cursor: pointer;display: block;width: 100%;margin-bottom: 0;padding: 0.3em;box-sizing: border-box;text-align: center;}#sk-container-id-3 label.sk-toggleable__label-arrow:before {content: \"▸\";float: left;margin-right: 0.25em;color: #696969;}#sk-container-id-3 label.sk-toggleable__label-arrow:hover:before {color: black;}#sk-container-id-3 div.sk-estimator:hover label.sk-toggleable__label-arrow:before {color: black;}#sk-container-id-3 div.sk-toggleable__content {max-height: 0;max-width: 0;overflow: hidden;text-align: left;background-color: #f0f8ff;}#sk-container-id-3 div.sk-toggleable__content pre {margin: 0.2em;color: black;border-radius: 0.25em;background-color: #f0f8ff;}#sk-container-id-3 input.sk-toggleable__control:checked~div.sk-toggleable__content {max-height: 200px;max-width: 100%;overflow: auto;}#sk-container-id-3 input.sk-toggleable__control:checked~label.sk-toggleable__label-arrow:before {content: \"▾\";}#sk-container-id-3 div.sk-estimator input.sk-toggleable__control:checked~label.sk-toggleable__label {background-color: #d4ebff;}#sk-container-id-3 div.sk-label input.sk-toggleable__control:checked~label.sk-toggleable__label {background-color: #d4ebff;}#sk-container-id-3 input.sk-hidden--visually {border: 0;clip: rect(1px 1px 1px 1px);clip: rect(1px, 1px, 1px, 1px);height: 1px;margin: -1px;overflow: hidden;padding: 0;position: absolute;width: 1px;}#sk-container-id-3 div.sk-estimator {font-family: monospace;background-color: #f0f8ff;border: 1px dotted black;border-radius: 0.25em;box-sizing: border-box;margin-bottom: 0.5em;}#sk-container-id-3 div.sk-estimator:hover {background-color: #d4ebff;}#sk-container-id-3 div.sk-parallel-item::after {content: \"\";width: 100%;border-bottom: 1px solid gray;flex-grow: 1;}#sk-container-id-3 div.sk-label:hover label.sk-toggleable__label {background-color: #d4ebff;}#sk-container-id-3 div.sk-serial::before {content: \"\";position: absolute;border-left: 1px solid gray;box-sizing: border-box;top: 0;bottom: 0;left: 50%;z-index: 0;}#sk-container-id-3 div.sk-serial {display: flex;flex-direction: column;align-items: center;background-color: white;padding-right: 0.2em;padding-left: 0.2em;position: relative;}#sk-container-id-3 div.sk-item {position: relative;z-index: 1;}#sk-container-id-3 div.sk-parallel {display: flex;align-items: stretch;justify-content: center;background-color: white;position: relative;}#sk-container-id-3 div.sk-item::before, #sk-container-id-3 div.sk-parallel-item::before {content: \"\";position: absolute;border-left: 1px solid gray;box-sizing: border-box;top: 0;bottom: 0;left: 50%;z-index: -1;}#sk-container-id-3 div.sk-parallel-item {display: flex;flex-direction: column;z-index: 1;position: relative;background-color: white;}#sk-container-id-3 div.sk-parallel-item:first-child::after {align-self: flex-end;width: 50%;}#sk-container-id-3 div.sk-parallel-item:last-child::after {align-self: flex-start;width: 50%;}#sk-container-id-3 div.sk-parallel-item:only-child::after {width: 0;}#sk-container-id-3 div.sk-dashed-wrapped {border: 1px dashed gray;margin: 0 0.4em 0.5em 0.4em;box-sizing: border-box;padding-bottom: 0.4em;background-color: white;}#sk-container-id-3 div.sk-label label {font-family: monospace;font-weight: bold;display: inline-block;line-height: 1.2em;}#sk-container-id-3 div.sk-label-container {text-align: center;}#sk-container-id-3 div.sk-container {/* jupyter's `normalize.less` sets `[hidden] { display: none; }` but bootstrap.min.css set `[hidden] { display: none !important; }` so we also need the `!important` here to be able to override the default hidden behavior on the sphinx rendered scikit-learn.org. See: https://github.com/scikit-learn/scikit-learn/issues/21755 */display: inline-block !important;position: relative;}#sk-container-id-3 div.sk-text-repr-fallback {display: none;}</style><div id=\"sk-container-id-3\" class=\"sk-top-container\"><div class=\"sk-text-repr-fallback\"><pre>MultinomialNB(alpha=1e-05)</pre><b>In a Jupyter environment, please rerun this cell to show the HTML representation or trust the notebook. <br />On GitHub, the HTML representation is unable to render, please try loading this page with nbviewer.org.</b></div><div class=\"sk-container\" hidden><div class=\"sk-item\"><div class=\"sk-estimator sk-toggleable\"><input class=\"sk-toggleable__control sk-hidden--visually\" id=\"sk-estimator-id-3\" type=\"checkbox\" checked><label for=\"sk-estimator-id-3\" class=\"sk-toggleable__label sk-toggleable__label-arrow\">MultinomialNB</label><div class=\"sk-toggleable__content\"><pre>MultinomialNB(alpha=1e-05)</pre></div></div></div></div></div>"
      ],
      "text/plain": [
       "MultinomialNB(alpha=1e-05)"
      ]
     },
     "execution_count": 37,
     "metadata": {},
     "output_type": "execute_result"
    }
   ],
   "source": [
    "# выбрана модель, которая показалась лучше по совокупности метрик, чтобы посмотреть результаты \n",
    "bayes = naive_bayes.MultinomialNB(alpha=0.00001) # вызываем модель\n",
    "bayes.fit(X_train, y_train) # тренируем модель"
   ]
  },
  {
   "cell_type": "code",
   "execution_count": 38,
   "id": "f3eaf25a",
   "metadata": {},
   "outputs": [],
   "source": [
    "y_pred_train = bayes.predict(X_train)\n",
    "y_pred_test = bayes.predict(X_test) # предсказания модели здесь\n",
    "new_df = pd.DataFrame(data = y_test)\n",
    "new_df[\"predicted\"]=bayes.predict(X_test) # добавляем новую колонку с предсказаниями"
   ]
  },
  {
   "cell_type": "code",
   "execution_count": 39,
   "id": "5f7c386f",
   "metadata": {},
   "outputs": [
    {
     "data": {
      "text/html": [
       "<div>\n",
       "<style scoped>\n",
       "    .dataframe tbody tr th:only-of-type {\n",
       "        vertical-align: middle;\n",
       "    }\n",
       "\n",
       "    .dataframe tbody tr th {\n",
       "        vertical-align: top;\n",
       "    }\n",
       "\n",
       "    .dataframe thead th {\n",
       "        text-align: right;\n",
       "    }\n",
       "</style>\n",
       "<table border=\"1\" class=\"dataframe\">\n",
       "  <thead>\n",
       "    <tr style=\"text-align: right;\">\n",
       "      <th></th>\n",
       "      <th>Predicted not-LF</th>\n",
       "      <th>Predicted LF</th>\n",
       "    </tr>\n",
       "  </thead>\n",
       "  <tbody>\n",
       "    <tr>\n",
       "      <th>Actual not-LF</th>\n",
       "      <td>26290</td>\n",
       "      <td>4197</td>\n",
       "    </tr>\n",
       "    <tr>\n",
       "      <th>Actual LF</th>\n",
       "      <td>4478</td>\n",
       "      <td>7887</td>\n",
       "    </tr>\n",
       "  </tbody>\n",
       "</table>\n",
       "</div>"
      ],
      "text/plain": [
       "               Predicted not-LF  Predicted LF\n",
       "Actual not-LF             26290          4197\n",
       "Actual LF                  4478          7887"
      ]
     },
     "execution_count": 39,
     "metadata": {},
     "output_type": "execute_result"
    }
   ],
   "source": [
    "# матрица ошибок\n",
    "m_confusion_test = metrics.confusion_matrix(y_test, y_pred_test)\n",
    "pd.DataFrame(data = m_confusion_test, columns = ['Predicted not-LF', 'Predicted LF'],\n",
    "            index = ['Actual not-LF', 'Actual LF'])"
   ]
  },
  {
   "cell_type": "code",
   "execution_count": 40,
   "id": "ec485a45",
   "metadata": {},
   "outputs": [
    {
     "name": "stdout",
     "output_type": "stream",
     "text": [
      "              precision    recall  f1-score   support\n",
      "\n",
      "           0       0.85      0.86      0.86     30487\n",
      "           1       0.65      0.64      0.65     12365\n",
      "\n",
      "    accuracy                           0.80     42852\n",
      "   macro avg       0.75      0.75      0.75     42852\n",
      "weighted avg       0.80      0.80      0.80     42852\n",
      "\n"
     ]
    }
   ],
   "source": [
    "print(metrics.classification_report(y_test, y_pred_test))"
   ]
  },
  {
   "cell_type": "code",
   "execution_count": null,
   "id": "dbfb828c",
   "metadata": {},
   "outputs": [],
   "source": []
  }
 ],
 "metadata": {
  "kernelspec": {
   "display_name": "Python 3 (ipykernel)",
   "language": "python",
   "name": "python3"
  },
  "language_info": {
   "codemirror_mode": {
    "name": "ipython",
    "version": 3
   },
   "file_extension": ".py",
   "mimetype": "text/x-python",
   "name": "python",
   "nbconvert_exporter": "python",
   "pygments_lexer": "ipython3",
   "version": "3.10.10"
  }
 },
 "nbformat": 4,
 "nbformat_minor": 5
}
