{
 "cells": [
  {
   "cell_type": "code",
   "execution_count": 1,
   "id": "52ee92b0",
   "metadata": {},
   "outputs": [],
   "source": []
  },
  {
   "cell_type": "markdown",
   "id": "8d313e93",
   "metadata": {},
   "source": [
    "# Как работаем с XML"
   ]
  },
  {
   "cell_type": "code",
   "execution_count": 21,
   "id": "d79d47c9",
   "metadata": {},
   "outputs": [],
   "source": [
    "# библиотека для работы с xml\n",
    "# https://docs.python.org/3/library/xml.etree.elementtree.html\n",
    "import xml.etree.ElementTree as ET"
   ]
  },
  {
   "cell_type": "code",
   "execution_count": 22,
   "id": "ff6b8094",
   "metadata": {},
   "outputs": [],
   "source": [
    "# прочитали и сделали дерево из большого файла (= \"распарсили\")\n",
    "tree = ET.parse('SynTagRus/2003/Anketa.tgt')"
   ]
  },
  {
   "cell_type": "code",
   "execution_count": 23,
   "id": "c43582db",
   "metadata": {},
   "outputs": [
    {
     "data": {
      "text/plain": [
       "'text'"
      ]
     },
     "execution_count": 23,
     "metadata": {},
     "output_type": "execute_result"
    }
   ],
   "source": [
    "# находим главный тег (в этой библиотеке главный гет - root) и проверяем, как он называется\n",
    "root = tree.getroot()\n",
    "root.tag"
   ]
  },
  {
   "cell_type": "code",
   "execution_count": 24,
   "id": "900ab1e7",
   "metadata": {},
   "outputs": [],
   "source": [
    "# сохраним содержимое второго тега (body) в переменную body (по названию тега)\n",
    "body = root[1]"
   ]
  },
  {
   "cell_type": "code",
   "execution_count": 25,
   "id": "2d645355",
   "metadata": {},
   "outputs": [],
   "source": [
    "# посмотрим на теги внутри второго S\n",
    "second_sentence = body[1]\n",
    "#for s_child in second_sentence:\n",
    "#  print(s_child.tag)"
   ]
  },
  {
   "cell_type": "markdown",
   "id": "5681a98e",
   "metadata": {},
   "source": [
    "**Нужно составить таблицу: текст - LF/notLF**   \n",
    "Сначала для одного предложения: извлекаем текст, потом инф. о ЛФ, потом засовываем в пару\n"
   ]
  },
  {
   "cell_type": "code",
   "execution_count": 26,
   "id": "06fb7cfd",
   "metadata": {},
   "outputs": [
    {
     "name": "stdout",
     "output_type": "stream",
     "text": [
      "Начальник\n",
      "областного\n",
      "управления\n",
      "связи\n",
      "Семен\n",
      "Еремеевич\n",
      "был\n",
      "человек\n",
      "простой\n",
      "приходил\n",
      "на\n",
      "работу\n",
      "всегда\n",
      "вовремя\n",
      "здоровался\n",
      "с\n",
      "секретаршей\n",
      "за\n",
      "руку\n",
      "и\n",
      "иногда\n",
      "даже\n",
      "писал\n",
      "в\n",
      "стенгазету\n",
      "заметки\n",
      "под\n",
      "псевдонимом\n",
      "Муха\n"
     ]
    }
   ],
   "source": [
    "# Выписываем все текстовые значения тегов W внутри второго предложения\n",
    "# Это получается как раз текст предложения без значков препинания.\n",
    "for w in second_sentence:\n",
    "  if w.tag == 'W':\n",
    "    print(w.text)"
   ]
  },
  {
   "cell_type": "code",
   "execution_count": 27,
   "id": "8209d34b",
   "metadata": {},
   "outputs": [
    {
     "name": "stdout",
     "output_type": "stream",
     "text": [
      " Начальник областного управления связи Семен Еремеевич был человек простой приходил на работу всегда вовремя здоровался с секретаршей за руку и иногда даже писал в стенгазету заметки под псевдонимом Муха\n"
     ]
    },
    {
     "data": {
      "text/plain": [
       "str"
      ]
     },
     "execution_count": 27,
     "metadata": {},
     "output_type": "execute_result"
    }
   ],
   "source": [
    "# Теперь запишем этот текст в строку\n",
    "# без str получается NoneType и дальше с ним не получается что-то делать\n",
    "S = ''\n",
    "for w in second_sentence:\n",
    "  if w.tag == 'W':\n",
    "    S = S + ' ' + str(w.text)\n",
    "print(S)\n",
    "type(S)"
   ]
  },
  {
   "cell_type": "code",
   "execution_count": 28,
   "id": "75de694f",
   "metadata": {},
   "outputs": [
    {
     "data": {
      "text/plain": [
       "[<Element 'LF' at 0x117bd9d50>]"
      ]
     },
     "execution_count": 28,
     "metadata": {},
     "output_type": "execute_result"
    }
   ],
   "source": [
    "# один раз из одной фразы нашли LF\n",
    "LF_list = [second_sentence.find('LF')]\n",
    "LF_list"
   ]
  },
  {
   "cell_type": "code",
   "execution_count": 29,
   "id": "ce08a296",
   "metadata": {},
   "outputs": [
    {
     "data": {
      "text/plain": [
       "[' Начальник областного управления связи Семен Еремеевич был человек простой приходил на работу всегда вовремя здоровался с секретаршей за руку и иногда даже писал в стенгазету заметки под псевдонимом Муха',\n",
       " 'LF']"
      ]
     },
     "execution_count": 29,
     "metadata": {},
     "output_type": "execute_result"
    }
   ],
   "source": [
    "# сделаем пару [текст : LF/notLF] для третьего предложения\n",
    "sent_lf = []\n",
    "S = ''\n",
    "for w in second_sentence:\n",
    "  if w.tag == 'W':\n",
    "    S = S + ' ' + str(w.text)\n",
    "sent_lf.append(S)\n",
    "if second_sentence.find('LF') == None:\n",
    "    sent_lf.append('notLF')\n",
    "else:\n",
    "    sent_lf.append('LF')\n",
    "sent_lf"
   ]
  },
  {
   "cell_type": "markdown",
   "id": "53df843a",
   "metadata": {},
   "source": [
    "**Теперь всё то же нужно проделать для текста**"
   ]
  },
  {
   "cell_type": "code",
   "execution_count": 30,
   "id": "e5cf353e",
   "metadata": {},
   "outputs": [
    {
     "data": {
      "text/plain": [
       "[' Начальник областного управления связи Семен Еремеевич был человек простой приходил на работу всегда вовремя здоровался с секретаршей за руку и иногда даже писал в стенгазету заметки под псевдонимом Муха',\n",
       " ' В приемной его с утра ожидали посетители кое-кто с важными делами а кое-кто и с такими которые легко можно было решить в нижестоящих инстанциях не затрудняя Семена Еремеевича',\n",
       " ' Однако стиль работы Семена Еремеевича заключался в том чтобы принимать всех желающих и лично вникать в дело']"
      ]
     },
     "execution_count": 30,
     "metadata": {},
     "output_type": "execute_result"
    }
   ],
   "source": [
    "# сделаем список всех фраз текста\n",
    "sent_list = []\n",
    "for sentence in body:\n",
    "  S = ''\n",
    "  for w in sentence:\n",
    "    if w.tag == 'W':\n",
    "      S = S + ' ' + str(w.text)\n",
    "  sent_list.append(S)\n",
    "sent_list[1:4]"
   ]
  },
  {
   "cell_type": "code",
   "execution_count": 31,
   "id": "99e1e054",
   "metadata": {},
   "outputs": [
    {
     "data": {
      "text/plain": [
       "['LF', 'LF', 'notLF']"
      ]
     },
     "execution_count": 31,
     "metadata": {},
     "output_type": "execute_result"
    }
   ],
   "source": [
    "# список сообщений LF/notLF для всех фраз текста\n",
    "LF_list = []\n",
    "for sentence in body:\n",
    "  if sentence.find('LF') == None:\n",
    "    LF_list.append('notLF')\n",
    "  else:\n",
    "    LF_list.append('LF')\n",
    "LF_list[1:4]"
   ]
  },
  {
   "cell_type": "code",
   "execution_count": 32,
   "id": "c0fee8da",
   "metadata": {},
   "outputs": [
    {
     "data": {
      "text/plain": [
       "[[' Начальник областного управления связи Семен Еремеевич был человек простой приходил на работу всегда вовремя здоровался с секретаршей за руку и иногда даже писал в стенгазету заметки под псевдонимом Муха',\n",
       "  'LF'],\n",
       " [' В приемной его с утра ожидали посетители кое-кто с важными делами а кое-кто и с такими которые легко можно было решить в нижестоящих инстанциях не затрудняя Семена Еремеевича',\n",
       "  'LF'],\n",
       " [' Однако стиль работы Семена Еремеевича заключался в том чтобы принимать всех желающих и лично вникать в дело',\n",
       "  'notLF']]"
      ]
     },
     "execution_count": 32,
     "metadata": {},
     "output_type": "execute_result"
    }
   ],
   "source": [
    "# сделаем список пар [текст : LF/notLF] для текста \"Анкета\"\n",
    "sent_lf_list = []\n",
    "for sentence in body:\n",
    "  S = ''\n",
    "  sent_lf = []\n",
    "  for w in sentence:\n",
    "    if w.tag == 'W':\n",
    "      S = S + ' ' + str(w.text)\n",
    "  sent_lf.append(S)\n",
    "  if sentence.find('LF') == None:\n",
    "    sent_lf.append('notLF')\n",
    "  else:\n",
    "    sent_lf.append('LF')\n",
    "  sent_lf_list.append(sent_lf)\n",
    "sent_lf_list[1:4]"
   ]
  },
  {
   "cell_type": "markdown",
   "id": "04113bf0",
   "metadata": {},
   "source": [
    "# Получение таблицы для 2003 года\n",
    "\n",
    "Для этого нужно сделать из ячейки про список пар для текста функцию и напустить на все файлы"
   ]
  },
  {
   "cell_type": "code",
   "execution_count": 33,
   "id": "8a5a8ba7",
   "metadata": {},
   "outputs": [
    {
     "data": {
      "text/plain": [
       "PosixPath('/Users/tatianafrolova/Downloads/SynTagRus/2003/Obratnaya_reaktsiya.tgt')"
      ]
     },
     "execution_count": 33,
     "metadata": {},
     "output_type": "execute_result"
    }
   ],
   "source": [
    "import pathlib \n",
    "_2003_path = pathlib.Path(\"/Users/tatianafrolova/Downloads/SynTagRus/2003\")\n",
    "file_list = list(_2003_path.rglob(\"*.tgt\")) \n",
    "file_list[10]"
   ]
  },
  {
   "cell_type": "code",
   "execution_count": 34,
   "id": "64a46430",
   "metadata": {},
   "outputs": [
    {
     "data": {
      "text/plain": [
       "PosixPath('/Users/tatianafrolova/Downloads/SynTagRus/2013/Maski.tgt')"
      ]
     },
     "execution_count": 34,
     "metadata": {},
     "output_type": "execute_result"
    }
   ],
   "source": [
    "corpus_path = pathlib.Path(\"/Users/tatianafrolova/Downloads/SynTagRus\")\n",
    "corpus_file_list = list(corpus_path.rglob(\"*.tgt\")) \n",
    "corpus_file_list[10]"
   ]
  },
  {
   "cell_type": "code",
   "execution_count": 35,
   "id": "b2f4d6ba",
   "metadata": {},
   "outputs": [
    {
     "name": "stdout",
     "output_type": "stream",
     "text": [
      "85\n",
      "1304\n"
     ]
    }
   ],
   "source": [
    "print(len(file_list))\n",
    "print(len(corpus_file_list))"
   ]
  },
  {
   "cell_type": "code",
   "execution_count": 36,
   "id": "0d1e0eb1",
   "metadata": {},
   "outputs": [],
   "source": [
    "#а вот и функция\n",
    "sent_lf_list = []\n",
    "def make_list_of_lfphrase_pairs(file):\n",
    "    tree = ET.parse(file)\n",
    "    root = tree.getroot()\n",
    "    body = root[1]\n",
    "    for sentence in body:\n",
    "      S = ''\n",
    "      sent_lf = []\n",
    "      for w in sentence:\n",
    "        if w.tag == 'W':\n",
    "          S = S + ' ' + str(w.text)\n",
    "      sent_lf.append(S)\n",
    "      if sentence.find('LF') == None:\n",
    "        sent_lf.append('notLF')\n",
    "      else:\n",
    "        sent_lf.append('LF')\n",
    "      sent_lf_list.append(sent_lf)"
   ]
  },
  {
   "cell_type": "code",
   "execution_count": 37,
   "id": "9578f838",
   "metadata": {},
   "outputs": [
    {
     "data": {
      "text/plain": [
       "9143"
      ]
     },
     "execution_count": 37,
     "metadata": {},
     "output_type": "execute_result"
    }
   ],
   "source": [
    "# применяем ко всей папке года\n",
    "sent_lf_list = []\n",
    "for file in file_list:\n",
    "    make_list_of_lfphrase_pairs(file)\n",
    "len(sent_lf_list)"
   ]
  },
  {
   "cell_type": "markdown",
   "id": "dac068ba",
   "metadata": {},
   "source": [
    "**есть список пар**   \n",
    "**делаем таблицу**"
   ]
  },
  {
   "cell_type": "code",
   "execution_count": 38,
   "id": "764baf40",
   "metadata": {},
   "outputs": [],
   "source": [
    "import pandas as pd"
   ]
  },
  {
   "cell_type": "code",
   "execution_count": 39,
   "id": "7c11a428",
   "metadata": {},
   "outputs": [
    {
     "data": {
      "text/html": [
       "<div>\n",
       "<style scoped>\n",
       "    .dataframe tbody tr th:only-of-type {\n",
       "        vertical-align: middle;\n",
       "    }\n",
       "\n",
       "    .dataframe tbody tr th {\n",
       "        vertical-align: top;\n",
       "    }\n",
       "\n",
       "    .dataframe thead th {\n",
       "        text-align: right;\n",
       "    }\n",
       "</style>\n",
       "<table border=\"1\" class=\"dataframe\">\n",
       "  <thead>\n",
       "    <tr style=\"text-align: right;\">\n",
       "      <th></th>\n",
       "      <th>phrase</th>\n",
       "      <th>lf-label</th>\n",
       "    </tr>\n",
       "  </thead>\n",
       "  <tbody>\n",
       "    <tr>\n",
       "      <th>0</th>\n",
       "      <td>Диссидентство коллег телевизионщиков заканчив...</td>\n",
       "      <td>LF</td>\n",
       "    </tr>\n",
       "    <tr>\n",
       "      <th>1</th>\n",
       "      <td>В 99 случаях из 100</td>\n",
       "      <td>notLF</td>\n",
       "    </tr>\n",
       "    <tr>\n",
       "      <th>2</th>\n",
       "      <td>Даже пропавший казалось бы Норкин в эфире нев...</td>\n",
       "      <td>LF</td>\n",
       "    </tr>\n",
       "    <tr>\n",
       "      <th>3</th>\n",
       "      <td>Парфенов подтверждает эту статистику</td>\n",
       "      <td>notLF</td>\n",
       "    </tr>\n",
       "    <tr>\n",
       "      <th>4</th>\n",
       "      <td>Единственное исключение Сергей Доренко</td>\n",
       "      <td>notLF</td>\n",
       "    </tr>\n",
       "    <tr>\n",
       "      <th>5</th>\n",
       "      <td>Он портит мне картину современного диссидентс...</td>\n",
       "      <td>notLF</td>\n",
       "    </tr>\n",
       "    <tr>\n",
       "      <th>6</th>\n",
       "      <td>Но не посадили а он не выходит в эфир и все в...</td>\n",
       "      <td>LF</td>\n",
       "    </tr>\n",
       "    <tr>\n",
       "      <th>7</th>\n",
       "      <td>Видимо так договорились</td>\n",
       "      <td>notLF</td>\n",
       "    </tr>\n",
       "    <tr>\n",
       "      <th>8</th>\n",
       "      <td>Или таков был его выбор</td>\n",
       "      <td>notLF</td>\n",
       "    </tr>\n",
       "    <tr>\n",
       "      <th>9</th>\n",
       "      <td>Выбор всех остальных на экране</td>\n",
       "      <td>notLF</td>\n",
       "    </tr>\n",
       "  </tbody>\n",
       "</table>\n",
       "</div>"
      ],
      "text/plain": [
       "                                              phrase lf-label\n",
       "0   Диссидентство коллег телевизионщиков заканчив...       LF\n",
       "1                                В 99 случаях из 100    notLF\n",
       "2   Даже пропавший казалось бы Норкин в эфире нев...       LF\n",
       "3               Парфенов подтверждает эту статистику    notLF\n",
       "4             Единственное исключение Сергей Доренко    notLF\n",
       "5   Он портит мне картину современного диссидентс...    notLF\n",
       "6   Но не посадили а он не выходит в эфир и все в...       LF\n",
       "7                            Видимо так договорились    notLF\n",
       "8                            Или таков был его выбор    notLF\n",
       "9                     Выбор всех остальных на экране    notLF"
      ]
     },
     "execution_count": 39,
     "metadata": {},
     "output_type": "execute_result"
    }
   ],
   "source": [
    "sent_lf_list_df = pd.DataFrame(sent_lf_list).rename(columns={0:\"phrase\", 1:\"lf-label\"})\n",
    "#sent_lf_list_df.info\n",
    "sent_lf_list_df.head(10)"
   ]
  },
  {
   "cell_type": "code",
   "execution_count": 40,
   "id": "1df1196f",
   "metadata": {},
   "outputs": [],
   "source": [
    "# сохраним в .csv файл\n",
    "sent_lf_list_df.to_csv('lf_text_2003.csv', encoding='utf-8') "
   ]
  },
  {
   "cell_type": "markdown",
   "id": "6471d660",
   "metadata": {},
   "source": [
    "# Получение таблицы для всего корпуса"
   ]
  },
  {
   "cell_type": "code",
   "execution_count": 41,
   "id": "b15bdd69",
   "metadata": {},
   "outputs": [
    {
     "data": {
      "text/plain": [
       "PosixPath('/Users/tatianafrolova/Downloads/SynTagRus/2013/Maski.tgt')"
      ]
     },
     "execution_count": 41,
     "metadata": {},
     "output_type": "execute_result"
    }
   ],
   "source": [
    "corpus_path = pathlib.Path(\"/Users/tatianafrolova/Downloads/SynTagRus\")\n",
    "corpus_file_list = list(corpus_path.rglob(\"*.tgt\")) \n",
    "corpus_file_list[10]"
   ]
  },
  {
   "cell_type": "code",
   "execution_count": 42,
   "id": "6d417a39",
   "metadata": {},
   "outputs": [
    {
     "data": {
      "text/plain": [
       "1304"
      ]
     },
     "execution_count": 42,
     "metadata": {},
     "output_type": "execute_result"
    }
   ],
   "source": [
    "len(corpus_file_list)"
   ]
  },
  {
   "cell_type": "code",
   "execution_count": 43,
   "id": "55aa6ad9",
   "metadata": {},
   "outputs": [
    {
     "data": {
      "text/plain": [
       "116272"
      ]
     },
     "execution_count": 43,
     "metadata": {},
     "output_type": "execute_result"
    }
   ],
   "source": [
    "# глуповато, что переменная sent_lf_list та же, хорошо бы функцию переделать как-то потом\n",
    "for file in corpus_file_list:\n",
    "    make_list_of_lfphrase_pairs(file)\n",
    "len(sent_lf_list)"
   ]
  },
  {
   "cell_type": "code",
   "execution_count": 44,
   "id": "ecd049c6",
   "metadata": {},
   "outputs": [
    {
     "data": {
      "text/html": [
       "<div>\n",
       "<style scoped>\n",
       "    .dataframe tbody tr th:only-of-type {\n",
       "        vertical-align: middle;\n",
       "    }\n",
       "\n",
       "    .dataframe tbody tr th {\n",
       "        vertical-align: top;\n",
       "    }\n",
       "\n",
       "    .dataframe thead th {\n",
       "        text-align: right;\n",
       "    }\n",
       "</style>\n",
       "<table border=\"1\" class=\"dataframe\">\n",
       "  <thead>\n",
       "    <tr style=\"text-align: right;\">\n",
       "      <th></th>\n",
       "      <th>phrase</th>\n",
       "      <th>lf-label</th>\n",
       "    </tr>\n",
       "  </thead>\n",
       "  <tbody>\n",
       "    <tr>\n",
       "      <th>0</th>\n",
       "      <td>Диссидентство коллег телевизионщиков заканчив...</td>\n",
       "      <td>LF</td>\n",
       "    </tr>\n",
       "    <tr>\n",
       "      <th>1</th>\n",
       "      <td>В 99 случаях из 100</td>\n",
       "      <td>notLF</td>\n",
       "    </tr>\n",
       "    <tr>\n",
       "      <th>2</th>\n",
       "      <td>Даже пропавший казалось бы Норкин в эфире нев...</td>\n",
       "      <td>LF</td>\n",
       "    </tr>\n",
       "    <tr>\n",
       "      <th>3</th>\n",
       "      <td>Парфенов подтверждает эту статистику</td>\n",
       "      <td>notLF</td>\n",
       "    </tr>\n",
       "    <tr>\n",
       "      <th>4</th>\n",
       "      <td>Единственное исключение Сергей Доренко</td>\n",
       "      <td>notLF</td>\n",
       "    </tr>\n",
       "    <tr>\n",
       "      <th>5</th>\n",
       "      <td>Он портит мне картину современного диссидентс...</td>\n",
       "      <td>notLF</td>\n",
       "    </tr>\n",
       "    <tr>\n",
       "      <th>6</th>\n",
       "      <td>Но не посадили а он не выходит в эфир и все в...</td>\n",
       "      <td>LF</td>\n",
       "    </tr>\n",
       "    <tr>\n",
       "      <th>7</th>\n",
       "      <td>Видимо так договорились</td>\n",
       "      <td>notLF</td>\n",
       "    </tr>\n",
       "    <tr>\n",
       "      <th>8</th>\n",
       "      <td>Или таков был его выбор</td>\n",
       "      <td>notLF</td>\n",
       "    </tr>\n",
       "    <tr>\n",
       "      <th>9</th>\n",
       "      <td>Выбор всех остальных на экране</td>\n",
       "      <td>notLF</td>\n",
       "    </tr>\n",
       "  </tbody>\n",
       "</table>\n",
       "</div>"
      ],
      "text/plain": [
       "                                              phrase lf-label\n",
       "0   Диссидентство коллег телевизионщиков заканчив...       LF\n",
       "1                                В 99 случаях из 100    notLF\n",
       "2   Даже пропавший казалось бы Норкин в эфире нев...       LF\n",
       "3               Парфенов подтверждает эту статистику    notLF\n",
       "4             Единственное исключение Сергей Доренко    notLF\n",
       "5   Он портит мне картину современного диссидентс...    notLF\n",
       "6   Но не посадили а он не выходит в эфир и все в...       LF\n",
       "7                            Видимо так договорились    notLF\n",
       "8                            Или таков был его выбор    notLF\n",
       "9                     Выбор всех остальных на экране    notLF"
      ]
     },
     "execution_count": 44,
     "metadata": {},
     "output_type": "execute_result"
    }
   ],
   "source": [
    "corpus_lf_list_df = pd.DataFrame(sent_lf_list).rename(columns={0:\"phrase\", 1:\"lf-label\"})\n",
    "#sent_lf_list_df.info\n",
    "corpus_lf_list_df.head(10)"
   ]
  },
  {
   "cell_type": "code",
   "execution_count": 45,
   "id": "608c3e08",
   "metadata": {},
   "outputs": [],
   "source": [
    "# сохраним в .csv файл\n",
    "corpus_lf_list_df.to_csv('lf_text_corpus.csv', encoding='utf-8') "
   ]
  },
  {
   "cell_type": "markdown",
   "id": "e0af7fa4",
   "metadata": {},
   "source": [
    "# Аналогичные таблицы для тех, где не LOC или не только LOC"
   ]
  },
  {
   "cell_type": "markdown",
   "id": "579a94a2",
   "metadata": {},
   "source": [
    "\n",
    "вот как устроен тег ЛФ:   "
   ]
  },
  {
   "cell_type": "code",
   "execution_count": 46,
   "id": "f1829e8c",
   "metadata": {},
   "outputs": [
    {
     "name": "stdout",
     "output_type": "stream",
     "text": [
      "{'LFARG': '12', 'LFFUNC': '_INCEPREAL1-M', 'LFPREP': '11', 'LFVAL': '10'}\n",
      "{'LFARG': '28', 'LFFUNC': '_ADV1-UN', 'LFVAL': '27'}\n"
     ]
    }
   ],
   "source": [
    "#\"<LF LFARG=\"2\" LFFUNC=\"_LOC\" LFVAL=\"1\"/>\".  \n",
    "for i in range(len(second_sentence)):\n",
    "    if second_sentence[i].tag == 'LF':\n",
    "        print(second_sentence[i].attrib)\n",
    "# напечатали все атрибуты тега LF"
   ]
  },
  {
   "cell_type": "code",
   "execution_count": 47,
   "id": "b0be180e",
   "metadata": {},
   "outputs": [
    {
     "name": "stdout",
     "output_type": "stream",
     "text": [
      "_INCEPREAL1-M\n",
      "_INCEPREAL1-M\n",
      "_ADV1-UN\n",
      "_ADV1-UN\n"
     ]
    }
   ],
   "source": [
    "# как найти значение атрибута LFFUNC\n",
    "for i in range(len(second_sentence)):\n",
    "    if second_sentence[i].tag == 'LF':\n",
    "        for value in second_sentence[i].tag:\n",
    "            print(second_sentence[i].attrib['LFFUNC'])"
   ]
  },
  {
   "cell_type": "code",
   "execution_count": 48,
   "id": "7dd79ec8",
   "metadata": {},
   "outputs": [],
   "source": [
    "#если есть тег LF и атрибут LFFUNC внутри него не равен _LOC, то пишем LF, иначе notLF\n",
    "#функция\n",
    "sent_lf_list_without_loc = []\n",
    "def make_list_of_lfphrase_without_loc(file):\n",
    "    tree = ET.parse(file)\n",
    "    root = tree.getroot()\n",
    "    body = root[1]\n",
    "    for sentence in body:\n",
    "        S = ''\n",
    "        sent_lf = []\n",
    "        for w in sentence:\n",
    "            if w.tag == 'W':\n",
    "                S = S + ' ' + str(w.text)\n",
    "        sent_lf.append(S)\n",
    "        if sentence.findall('.//LF[@LFFUNC!=\"_LOC\"]'): \n",
    "            sent_lf.append('LF')\n",
    "        else:\n",
    "            sent_lf.append('notLF')\n",
    "        sent_lf_list_without_loc.append(sent_lf)"
   ]
  },
  {
   "cell_type": "code",
   "execution_count": 49,
   "id": "2f63c421",
   "metadata": {},
   "outputs": [
    {
     "name": "stdout",
     "output_type": "stream",
     "text": [
      "_INCEPREAL1-M\n",
      "_ADV1-UN\n"
     ]
    }
   ],
   "source": [
    "for e in second_sentence.findall('.//LF[@LFFUNC!=\"_LOC\"]'):\n",
    "    print(e.attrib['LFFUNC'])"
   ]
  },
  {
   "cell_type": "code",
   "execution_count": 50,
   "id": "145d0e5b",
   "metadata": {},
   "outputs": [],
   "source": [
    "first_sentence = body[0]\n",
    "third_sentence = body[2]"
   ]
  },
  {
   "cell_type": "code",
   "execution_count": 51,
   "id": "4b2cbd7f",
   "metadata": {},
   "outputs": [
    {
     "name": "stdout",
     "output_type": "stream",
     "text": [
      "LF\n"
     ]
    }
   ],
   "source": [
    "if body[51].findall('.//LF[@LFFUNC!=\"_LOC\"]'):\n",
    "    print('LF')\n",
    "else:\n",
    "    print('notLF')"
   ]
  },
  {
   "cell_type": "code",
   "execution_count": 53,
   "id": "3e85e726",
   "metadata": {},
   "outputs": [
    {
     "data": {
      "text/plain": [
       "[[' Диссидентство коллег телевизионщиков заканчивается выходом в эфир', 'LF'],\n",
       " [' В 99 случаях из 100', 'notLF'],\n",
       " [' Даже пропавший казалось бы Норкин в эфире невидимого у нас но видимого не у нас телевидения Гусинского',\n",
       "  'LF'],\n",
       " [' Парфенов подтверждает эту статистику', 'notLF'],\n",
       " [' Единственное исключение Сергей Доренко', 'notLF'],\n",
       " [' Он портит мне картину современного диссидентства None особенно тем что его чуть не посадили что как-то приближает его к классическому советскому образу диссидента',\n",
       "  'notLF'],\n",
       " [' Но не посадили а он не выходит в эфир и все время где-то путешествует',\n",
       "  'LF'],\n",
       " [' Видимо так договорились', 'notLF'],\n",
       " [' Или таков был его выбор', 'notLF'],\n",
       " [' Выбор всех остальных на экране', 'notLF']]"
      ]
     },
     "execution_count": 53,
     "metadata": {},
     "output_type": "execute_result"
    }
   ],
   "source": [
    "# применяем ко всей папке года\n",
    "sent_lf_list_without_loc = []\n",
    "for file in file_list:\n",
    "    make_list_of_lfphrase_without_loc(file)\n",
    "sent_lf_list_without_loc[0:10]"
   ]
  },
  {
   "cell_type": "code",
   "execution_count": 54,
   "id": "0e2ddeda",
   "metadata": {},
   "outputs": [
    {
     "data": {
      "text/html": [
       "<div>\n",
       "<style scoped>\n",
       "    .dataframe tbody tr th:only-of-type {\n",
       "        vertical-align: middle;\n",
       "    }\n",
       "\n",
       "    .dataframe tbody tr th {\n",
       "        vertical-align: top;\n",
       "    }\n",
       "\n",
       "    .dataframe thead th {\n",
       "        text-align: right;\n",
       "    }\n",
       "</style>\n",
       "<table border=\"1\" class=\"dataframe\">\n",
       "  <thead>\n",
       "    <tr style=\"text-align: right;\">\n",
       "      <th></th>\n",
       "      <th>phrase</th>\n",
       "      <th>lf-label</th>\n",
       "    </tr>\n",
       "  </thead>\n",
       "  <tbody>\n",
       "    <tr>\n",
       "      <th>0</th>\n",
       "      <td>Диссидентство коллег телевизионщиков заканчив...</td>\n",
       "      <td>LF</td>\n",
       "    </tr>\n",
       "    <tr>\n",
       "      <th>1</th>\n",
       "      <td>В 99 случаях из 100</td>\n",
       "      <td>notLF</td>\n",
       "    </tr>\n",
       "    <tr>\n",
       "      <th>2</th>\n",
       "      <td>Даже пропавший казалось бы Норкин в эфире нев...</td>\n",
       "      <td>LF</td>\n",
       "    </tr>\n",
       "    <tr>\n",
       "      <th>3</th>\n",
       "      <td>Парфенов подтверждает эту статистику</td>\n",
       "      <td>notLF</td>\n",
       "    </tr>\n",
       "    <tr>\n",
       "      <th>4</th>\n",
       "      <td>Единственное исключение Сергей Доренко</td>\n",
       "      <td>notLF</td>\n",
       "    </tr>\n",
       "    <tr>\n",
       "      <th>5</th>\n",
       "      <td>Он портит мне картину современного диссидентс...</td>\n",
       "      <td>notLF</td>\n",
       "    </tr>\n",
       "    <tr>\n",
       "      <th>6</th>\n",
       "      <td>Но не посадили а он не выходит в эфир и все в...</td>\n",
       "      <td>LF</td>\n",
       "    </tr>\n",
       "    <tr>\n",
       "      <th>7</th>\n",
       "      <td>Видимо так договорились</td>\n",
       "      <td>notLF</td>\n",
       "    </tr>\n",
       "    <tr>\n",
       "      <th>8</th>\n",
       "      <td>Или таков был его выбор</td>\n",
       "      <td>notLF</td>\n",
       "    </tr>\n",
       "    <tr>\n",
       "      <th>9</th>\n",
       "      <td>Выбор всех остальных на экране</td>\n",
       "      <td>notLF</td>\n",
       "    </tr>\n",
       "  </tbody>\n",
       "</table>\n",
       "</div>"
      ],
      "text/plain": [
       "                                              phrase lf-label\n",
       "0   Диссидентство коллег телевизионщиков заканчив...       LF\n",
       "1                                В 99 случаях из 100    notLF\n",
       "2   Даже пропавший казалось бы Норкин в эфире нев...       LF\n",
       "3               Парфенов подтверждает эту статистику    notLF\n",
       "4             Единственное исключение Сергей Доренко    notLF\n",
       "5   Он портит мне картину современного диссидентс...    notLF\n",
       "6   Но не посадили а он не выходит в эфир и все в...       LF\n",
       "7                            Видимо так договорились    notLF\n",
       "8                            Или таков был его выбор    notLF\n",
       "9                     Выбор всех остальных на экране    notLF"
      ]
     },
     "execution_count": 54,
     "metadata": {},
     "output_type": "execute_result"
    }
   ],
   "source": [
    "sent_lf_list_without_loc_df = pd.DataFrame(sent_lf_list_without_loc).rename(columns={0:\"phrase\", 1:\"lf-label\"})\n",
    "#sent_lf_list_df.info\n",
    "sent_lf_list_without_loc_df.head(10)"
   ]
  },
  {
   "cell_type": "code",
   "execution_count": 55,
   "id": "440ce4da",
   "metadata": {},
   "outputs": [],
   "source": [
    "# сохраним в .csv файл\n",
    "sent_lf_list_without_loc_df.to_csv('lf_text_2003_without_loc.csv', encoding='utf-8') "
   ]
  },
  {
   "cell_type": "code",
   "execution_count": 56,
   "id": "c04b44d6",
   "metadata": {},
   "outputs": [
    {
     "data": {
      "text/plain": [
       "[]"
      ]
     },
     "execution_count": 56,
     "metadata": {},
     "output_type": "execute_result"
    }
   ],
   "source": [
    "# применяем ко всей папке корпуса\n",
    "corpus_lf_list_without_loc = []\n",
    "for file in corpus_file_list:\n",
    "    make_list_of_lfphrase_without_loc(file)\n",
    "corpus_lf_list_without_loc[0:10]"
   ]
  },
  {
   "cell_type": "code",
   "execution_count": 57,
   "id": "c15467ba",
   "metadata": {},
   "outputs": [
    {
     "data": {
      "text/html": [
       "<div>\n",
       "<style scoped>\n",
       "    .dataframe tbody tr th:only-of-type {\n",
       "        vertical-align: middle;\n",
       "    }\n",
       "\n",
       "    .dataframe tbody tr th {\n",
       "        vertical-align: top;\n",
       "    }\n",
       "\n",
       "    .dataframe thead th {\n",
       "        text-align: right;\n",
       "    }\n",
       "</style>\n",
       "<table border=\"1\" class=\"dataframe\">\n",
       "  <thead>\n",
       "    <tr style=\"text-align: right;\">\n",
       "      <th></th>\n",
       "      <th>phrase</th>\n",
       "      <th>lf-label</th>\n",
       "    </tr>\n",
       "  </thead>\n",
       "  <tbody>\n",
       "    <tr>\n",
       "      <th>0</th>\n",
       "      <td>Диссидентство коллег телевизионщиков заканчив...</td>\n",
       "      <td>LF</td>\n",
       "    </tr>\n",
       "    <tr>\n",
       "      <th>1</th>\n",
       "      <td>В 99 случаях из 100</td>\n",
       "      <td>notLF</td>\n",
       "    </tr>\n",
       "    <tr>\n",
       "      <th>2</th>\n",
       "      <td>Даже пропавший казалось бы Норкин в эфире нев...</td>\n",
       "      <td>LF</td>\n",
       "    </tr>\n",
       "    <tr>\n",
       "      <th>3</th>\n",
       "      <td>Парфенов подтверждает эту статистику</td>\n",
       "      <td>notLF</td>\n",
       "    </tr>\n",
       "    <tr>\n",
       "      <th>4</th>\n",
       "      <td>Единственное исключение Сергей Доренко</td>\n",
       "      <td>notLF</td>\n",
       "    </tr>\n",
       "    <tr>\n",
       "      <th>5</th>\n",
       "      <td>Он портит мне картину современного диссидентс...</td>\n",
       "      <td>notLF</td>\n",
       "    </tr>\n",
       "    <tr>\n",
       "      <th>6</th>\n",
       "      <td>Но не посадили а он не выходит в эфир и все в...</td>\n",
       "      <td>LF</td>\n",
       "    </tr>\n",
       "    <tr>\n",
       "      <th>7</th>\n",
       "      <td>Видимо так договорились</td>\n",
       "      <td>notLF</td>\n",
       "    </tr>\n",
       "    <tr>\n",
       "      <th>8</th>\n",
       "      <td>Или таков был его выбор</td>\n",
       "      <td>notLF</td>\n",
       "    </tr>\n",
       "    <tr>\n",
       "      <th>9</th>\n",
       "      <td>Выбор всех остальных на экране</td>\n",
       "      <td>notLF</td>\n",
       "    </tr>\n",
       "  </tbody>\n",
       "</table>\n",
       "</div>"
      ],
      "text/plain": [
       "                                              phrase lf-label\n",
       "0   Диссидентство коллег телевизионщиков заканчив...       LF\n",
       "1                                В 99 случаях из 100    notLF\n",
       "2   Даже пропавший казалось бы Норкин в эфире нев...       LF\n",
       "3               Парфенов подтверждает эту статистику    notLF\n",
       "4             Единственное исключение Сергей Доренко    notLF\n",
       "5   Он портит мне картину современного диссидентс...    notLF\n",
       "6   Но не посадили а он не выходит в эфир и все в...       LF\n",
       "7                            Видимо так договорились    notLF\n",
       "8                            Или таков был его выбор    notLF\n",
       "9                     Выбор всех остальных на экране    notLF"
      ]
     },
     "execution_count": 57,
     "metadata": {},
     "output_type": "execute_result"
    }
   ],
   "source": [
    "corpus_lf_list_without_loc_df = pd.DataFrame(sent_lf_list_without_loc).rename(columns={0:\"phrase\", 1:\"lf-label\"})\n",
    "#sent_lf_list_df.info\n",
    "corpus_lf_list_without_loc_df.head(10)"
   ]
  },
  {
   "cell_type": "code",
   "execution_count": null,
   "id": "80c052ae",
   "metadata": {},
   "outputs": [],
   "source": [
    "# сохраним в .csv файл\n",
    "corpus_lf_list_without_loc_df.to_csv('lf_text_corpus_without_loc.csv', encoding='utf-8') "
   ]
  },
  {
   "cell_type": "code",
   "execution_count": null,
   "id": "936c2d9f",
   "metadata": {},
   "outputs": [],
   "source": [
    "       \n",
    "        \n",
    "\n",
    "        \n",
    " print (child.attrib[value])\n",
    "#        if not second_sentence[i].attrib['LFFUNC']='_LOC':\n",
    "#            print('LF')\n",
    "#    else print('notLF')\n",
    "    \n",
    "#for i in range(len(first_sentence)):\n",
    "#  if first_sentence[i].tag == 'W':\n",
    "#    prince_lemmas.append(first_sentence[i].attrib['LEMMA'])\n",
    "\n",
    "#print(prince_lemmas)"
   ]
  },
  {
   "cell_type": "code",
   "execution_count": null,
   "id": "18cf291e",
   "metadata": {},
   "outputs": [],
   "source": []
  }
 ],
 "metadata": {
  "kernelspec": {
   "display_name": "Python 3 (ipykernel)",
   "language": "python",
   "name": "python3"
  },
  "language_info": {
   "codemirror_mode": {
    "name": "ipython",
    "version": 3
   },
   "file_extension": ".py",
   "mimetype": "text/x-python",
   "name": "python",
   "nbconvert_exporter": "python",
   "pygments_lexer": "ipython3",
   "version": "3.10.10"
  }
 },
 "nbformat": 4,
 "nbformat_minor": 5
}
