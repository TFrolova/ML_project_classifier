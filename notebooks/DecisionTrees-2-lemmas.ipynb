{
 "cells": [
  {
   "cell_type": "code",
   "execution_count": null,
   "id": "8a1e8c26",
   "metadata": {
    "id": "8a1e8c26"
   },
   "outputs": [],
   "source": [
    "#import numpy as np\n",
    "# from sklearn.datasets import load_wine\n",
    "#import matplotlib.pyplot as plt\n",
    "#%matplotlib inline\n",
    "#import seaborn as sns\n",
    "\n",
    "#from sklearn.metrics import classification_report, confusion_matrix"
   ]
  },
  {
   "cell_type": "code",
   "execution_count": null,
   "id": "AJTIfbNhT7r8",
   "metadata": {
    "id": "AJTIfbNhT7r8"
   },
   "outputs": [],
   "source": [
    "#from google.colab import drive\n",
    "#drive.mount('/content/drive')"
   ]
  },
  {
   "cell_type": "code",
   "execution_count": 2,
   "id": "ad34506a",
   "metadata": {
    "id": "ad34506a"
   },
   "outputs": [],
   "source": [
    "import pandas as pd\n",
    "# читаем таблицу из файла\n",
    "sent_lf_list_df = pd.read_csv(\"lf_corpus_lemmas.csv\", encoding=\"utf-8\", sep=\",\") # есть другие аргументы: sep, decimal и др."
   ]
  },
  {
   "cell_type": "code",
   "execution_count": 3,
   "id": "26tTMPRiTsTl",
   "metadata": {
    "colab": {
     "base_uri": "https://localhost:8080/",
     "height": 411
    },
    "id": "26tTMPRiTsTl",
    "outputId": "fdb7ae59-ef19-49de-8dde-cb67602932c1"
   },
   "outputs": [
    {
     "data": {
      "text/html": [
       "<div>\n",
       "<style scoped>\n",
       "    .dataframe tbody tr th:only-of-type {\n",
       "        vertical-align: middle;\n",
       "    }\n",
       "\n",
       "    .dataframe tbody tr th {\n",
       "        vertical-align: top;\n",
       "    }\n",
       "\n",
       "    .dataframe thead th {\n",
       "        text-align: right;\n",
       "    }\n",
       "</style>\n",
       "<table border=\"1\" class=\"dataframe\">\n",
       "  <thead>\n",
       "    <tr style=\"text-align: right;\">\n",
       "      <th></th>\n",
       "      <th>Unnamed: 0</th>\n",
       "      <th>phrase</th>\n",
       "      <th>lf-label</th>\n",
       "    </tr>\n",
       "  </thead>\n",
       "  <tbody>\n",
       "    <tr>\n",
       "      <th>0</th>\n",
       "      <td>0</td>\n",
       "      <td>В КРЕМЛЬ И В БЕЛЫЙ ДОМ НА ПРОШЛЫЙ НЕДЕЛЯ ОБОС...</td>\n",
       "      <td>LF</td>\n",
       "    </tr>\n",
       "    <tr>\n",
       "      <th>1</th>\n",
       "      <td>1</td>\n",
       "      <td>ЭКОНОМИЧЕСКИЙ СОВЕТНИК ПРЕЗИДЕНТ ПУТИН АКАДЕМ...</td>\n",
       "      <td>LF</td>\n",
       "    </tr>\n",
       "    <tr>\n",
       "      <th>2</th>\n",
       "      <td>2</td>\n",
       "      <td>ГЛАЗЬЕВ В ЧАСТНОСТИ КРИТИКОВАТЬ ДЕНЕЖНЫЙ КРЕД...</td>\n",
       "      <td>notLF</td>\n",
       "    </tr>\n",
       "    <tr>\n",
       "      <th>3</th>\n",
       "      <td>3</td>\n",
       "      <td>ИМЕННО ЭТОТ МЕХАНИЗМ ЛИШАТЬ СТРАНА ИНВЕСТИЦИЯ...</td>\n",
       "      <td>notLF</td>\n",
       "    </tr>\n",
       "    <tr>\n",
       "      <th>4</th>\n",
       "      <td>4</td>\n",
       "      <td>В 60-СТРАНИЧНЫЙ ДОКЛАД АКАДЕМИК ГЛАЗЬЕВ НЕ ПР...</td>\n",
       "      <td>notLF</td>\n",
       "    </tr>\n",
       "    <tr>\n",
       "      <th>...</th>\n",
       "      <td>...</td>\n",
       "      <td>...</td>\n",
       "      <td>...</td>\n",
       "    </tr>\n",
       "    <tr>\n",
       "      <th>214253</th>\n",
       "      <td>214253</td>\n",
       "      <td>СЛИШКОМ МНОГО ЗА ПОСЛЕДНИЙ ГОД СТАНОВИТЬСЯ ГО...</td>\n",
       "      <td>notLF</td>\n",
       "    </tr>\n",
       "    <tr>\n",
       "      <th>214254</th>\n",
       "      <td>214254</td>\n",
       "      <td>А СКОЛЬКО ЧЕЛОВЕК ЧАС СИДЕТЬ В ОСТАНАВЛИВАТЬС...</td>\n",
       "      <td>LF</td>\n",
       "    </tr>\n",
       "    <tr>\n",
       "      <th>214255</th>\n",
       "      <td>214255</td>\n",
       "      <td>ВОЛНА СУДЕБНЫЙ ИСК ПРОСТО СМЫВАТЬ БЫ И ГОСПОД...</td>\n",
       "      <td>notLF</td>\n",
       "    </tr>\n",
       "    <tr>\n",
       "      <th>214256</th>\n",
       "      <td>214256</td>\n",
       "      <td>ПОКА ЖЕ У ЭНЕРГОПЫЛЕСОС ЕЖЕГОДНО ВЫКАЧИВАТЬ И...</td>\n",
       "      <td>notLF</td>\n",
       "    </tr>\n",
       "    <tr>\n",
       "      <th>214257</th>\n",
       "      <td>214257</td>\n",
       "      <td>НАСЕЛЕНИЕ ДАВАТЬ ТОЛЬКО ОДИН СВОБОДА РУКА ЧТО...</td>\n",
       "      <td>LF</td>\n",
       "    </tr>\n",
       "  </tbody>\n",
       "</table>\n",
       "<p>214258 rows × 3 columns</p>\n",
       "</div>"
      ],
      "text/plain": [
       "        Unnamed: 0                                             phrase lf-label\n",
       "0                0   В КРЕМЛЬ И В БЕЛЫЙ ДОМ НА ПРОШЛЫЙ НЕДЕЛЯ ОБОС...       LF\n",
       "1                1   ЭКОНОМИЧЕСКИЙ СОВЕТНИК ПРЕЗИДЕНТ ПУТИН АКАДЕМ...       LF\n",
       "2                2   ГЛАЗЬЕВ В ЧАСТНОСТИ КРИТИКОВАТЬ ДЕНЕЖНЫЙ КРЕД...    notLF\n",
       "3                3   ИМЕННО ЭТОТ МЕХАНИЗМ ЛИШАТЬ СТРАНА ИНВЕСТИЦИЯ...    notLF\n",
       "4                4   В 60-СТРАНИЧНЫЙ ДОКЛАД АКАДЕМИК ГЛАЗЬЕВ НЕ ПР...    notLF\n",
       "...            ...                                                ...      ...\n",
       "214253      214253   СЛИШКОМ МНОГО ЗА ПОСЛЕДНИЙ ГОД СТАНОВИТЬСЯ ГО...    notLF\n",
       "214254      214254   А СКОЛЬКО ЧЕЛОВЕК ЧАС СИДЕТЬ В ОСТАНАВЛИВАТЬС...       LF\n",
       "214255      214255   ВОЛНА СУДЕБНЫЙ ИСК ПРОСТО СМЫВАТЬ БЫ И ГОСПОД...    notLF\n",
       "214256      214256   ПОКА ЖЕ У ЭНЕРГОПЫЛЕСОС ЕЖЕГОДНО ВЫКАЧИВАТЬ И...    notLF\n",
       "214257      214257   НАСЕЛЕНИЕ ДАВАТЬ ТОЛЬКО ОДИН СВОБОДА РУКА ЧТО...       LF\n",
       "\n",
       "[214258 rows x 3 columns]"
      ]
     },
     "execution_count": 3,
     "metadata": {},
     "output_type": "execute_result"
    }
   ],
   "source": [
    "sent_lf_list_df"
   ]
  },
  {
   "cell_type": "code",
   "execution_count": 4,
   "id": "1424ddfd",
   "metadata": {},
   "outputs": [
    {
     "data": {
      "text/html": [
       "<div>\n",
       "<style scoped>\n",
       "    .dataframe tbody tr th:only-of-type {\n",
       "        vertical-align: middle;\n",
       "    }\n",
       "\n",
       "    .dataframe tbody tr th {\n",
       "        vertical-align: top;\n",
       "    }\n",
       "\n",
       "    .dataframe thead th {\n",
       "        text-align: right;\n",
       "    }\n",
       "</style>\n",
       "<table border=\"1\" class=\"dataframe\">\n",
       "  <thead>\n",
       "    <tr style=\"text-align: right;\">\n",
       "      <th></th>\n",
       "      <th>Unnamed: 0</th>\n",
       "      <th>phrase</th>\n",
       "      <th>lf-label</th>\n",
       "    </tr>\n",
       "  </thead>\n",
       "  <tbody>\n",
       "    <tr>\n",
       "      <th>0</th>\n",
       "      <td>0</td>\n",
       "      <td>В КРЕМЛЬ И В БЕЛЫЙ ДОМ НА ПРОШЛЫЙ НЕДЕЛЯ ОБОС...</td>\n",
       "      <td>1</td>\n",
       "    </tr>\n",
       "    <tr>\n",
       "      <th>1</th>\n",
       "      <td>1</td>\n",
       "      <td>ЭКОНОМИЧЕСКИЙ СОВЕТНИК ПРЕЗИДЕНТ ПУТИН АКАДЕМ...</td>\n",
       "      <td>1</td>\n",
       "    </tr>\n",
       "    <tr>\n",
       "      <th>2</th>\n",
       "      <td>2</td>\n",
       "      <td>ГЛАЗЬЕВ В ЧАСТНОСТИ КРИТИКОВАТЬ ДЕНЕЖНЫЙ КРЕД...</td>\n",
       "      <td>0</td>\n",
       "    </tr>\n",
       "    <tr>\n",
       "      <th>3</th>\n",
       "      <td>3</td>\n",
       "      <td>ИМЕННО ЭТОТ МЕХАНИЗМ ЛИШАТЬ СТРАНА ИНВЕСТИЦИЯ...</td>\n",
       "      <td>0</td>\n",
       "    </tr>\n",
       "    <tr>\n",
       "      <th>4</th>\n",
       "      <td>4</td>\n",
       "      <td>В 60-СТРАНИЧНЫЙ ДОКЛАД АКАДЕМИК ГЛАЗЬЕВ НЕ ПР...</td>\n",
       "      <td>0</td>\n",
       "    </tr>\n",
       "    <tr>\n",
       "      <th>...</th>\n",
       "      <td>...</td>\n",
       "      <td>...</td>\n",
       "      <td>...</td>\n",
       "    </tr>\n",
       "    <tr>\n",
       "      <th>214253</th>\n",
       "      <td>214253</td>\n",
       "      <td>СЛИШКОМ МНОГО ЗА ПОСЛЕДНИЙ ГОД СТАНОВИТЬСЯ ГО...</td>\n",
       "      <td>0</td>\n",
       "    </tr>\n",
       "    <tr>\n",
       "      <th>214254</th>\n",
       "      <td>214254</td>\n",
       "      <td>А СКОЛЬКО ЧЕЛОВЕК ЧАС СИДЕТЬ В ОСТАНАВЛИВАТЬС...</td>\n",
       "      <td>1</td>\n",
       "    </tr>\n",
       "    <tr>\n",
       "      <th>214255</th>\n",
       "      <td>214255</td>\n",
       "      <td>ВОЛНА СУДЕБНЫЙ ИСК ПРОСТО СМЫВАТЬ БЫ И ГОСПОД...</td>\n",
       "      <td>0</td>\n",
       "    </tr>\n",
       "    <tr>\n",
       "      <th>214256</th>\n",
       "      <td>214256</td>\n",
       "      <td>ПОКА ЖЕ У ЭНЕРГОПЫЛЕСОС ЕЖЕГОДНО ВЫКАЧИВАТЬ И...</td>\n",
       "      <td>0</td>\n",
       "    </tr>\n",
       "    <tr>\n",
       "      <th>214257</th>\n",
       "      <td>214257</td>\n",
       "      <td>НАСЕЛЕНИЕ ДАВАТЬ ТОЛЬКО ОДИН СВОБОДА РУКА ЧТО...</td>\n",
       "      <td>1</td>\n",
       "    </tr>\n",
       "  </tbody>\n",
       "</table>\n",
       "<p>214258 rows × 3 columns</p>\n",
       "</div>"
      ],
      "text/plain": [
       "        Unnamed: 0                                             phrase  \\\n",
       "0                0   В КРЕМЛЬ И В БЕЛЫЙ ДОМ НА ПРОШЛЫЙ НЕДЕЛЯ ОБОС...   \n",
       "1                1   ЭКОНОМИЧЕСКИЙ СОВЕТНИК ПРЕЗИДЕНТ ПУТИН АКАДЕМ...   \n",
       "2                2   ГЛАЗЬЕВ В ЧАСТНОСТИ КРИТИКОВАТЬ ДЕНЕЖНЫЙ КРЕД...   \n",
       "3                3   ИМЕННО ЭТОТ МЕХАНИЗМ ЛИШАТЬ СТРАНА ИНВЕСТИЦИЯ...   \n",
       "4                4   В 60-СТРАНИЧНЫЙ ДОКЛАД АКАДЕМИК ГЛАЗЬЕВ НЕ ПР...   \n",
       "...            ...                                                ...   \n",
       "214253      214253   СЛИШКОМ МНОГО ЗА ПОСЛЕДНИЙ ГОД СТАНОВИТЬСЯ ГО...   \n",
       "214254      214254   А СКОЛЬКО ЧЕЛОВЕК ЧАС СИДЕТЬ В ОСТАНАВЛИВАТЬС...   \n",
       "214255      214255   ВОЛНА СУДЕБНЫЙ ИСК ПРОСТО СМЫВАТЬ БЫ И ГОСПОД...   \n",
       "214256      214256   ПОКА ЖЕ У ЭНЕРГОПЫЛЕСОС ЕЖЕГОДНО ВЫКАЧИВАТЬ И...   \n",
       "214257      214257   НАСЕЛЕНИЕ ДАВАТЬ ТОЛЬКО ОДИН СВОБОДА РУКА ЧТО...   \n",
       "\n",
       "        lf-label  \n",
       "0              1  \n",
       "1              1  \n",
       "2              0  \n",
       "3              0  \n",
       "4              0  \n",
       "...          ...  \n",
       "214253         0  \n",
       "214254         1  \n",
       "214255         0  \n",
       "214256         0  \n",
       "214257         1  \n",
       "\n",
       "[214258 rows x 3 columns]"
      ]
     },
     "execution_count": 4,
     "metadata": {},
     "output_type": "execute_result"
    }
   ],
   "source": [
    "sent_lf_list_df[\"lf-label\"]=sent_lf_list_df[\"lf-label\"].map({'LF':1,'notLF':0}) # в первой колонке переименуем значения 'spam' в 1  и 'ham' в 0\n",
    "\n",
    "sent_lf_list_df"
   ]
  },
  {
   "cell_type": "code",
   "execution_count": 5,
   "id": "c6e762d8",
   "metadata": {
    "colab": {
     "base_uri": "https://localhost:8080/",
     "height": 201
    },
    "id": "c6e762d8",
    "outputId": "0d838b46-eb2b-42f0-93ca-7454e56b5588"
   },
   "outputs": [
    {
     "data": {
      "text/html": [
       "<div>\n",
       "<style scoped>\n",
       "    .dataframe tbody tr th:only-of-type {\n",
       "        vertical-align: middle;\n",
       "    }\n",
       "\n",
       "    .dataframe tbody tr th {\n",
       "        vertical-align: top;\n",
       "    }\n",
       "\n",
       "    .dataframe thead th {\n",
       "        text-align: right;\n",
       "    }\n",
       "</style>\n",
       "<table border=\"1\" class=\"dataframe\">\n",
       "  <thead>\n",
       "    <tr style=\"text-align: right;\">\n",
       "      <th></th>\n",
       "      <th>Unnamed: 0</th>\n",
       "      <th>phrase</th>\n",
       "      <th>label</th>\n",
       "    </tr>\n",
       "  </thead>\n",
       "  <tbody>\n",
       "    <tr>\n",
       "      <th>0</th>\n",
       "      <td>0</td>\n",
       "      <td>В КРЕМЛЬ И В БЕЛЫЙ ДОМ НА ПРОШЛЫЙ НЕДЕЛЯ ОБОС...</td>\n",
       "      <td>1</td>\n",
       "    </tr>\n",
       "    <tr>\n",
       "      <th>1</th>\n",
       "      <td>1</td>\n",
       "      <td>ЭКОНОМИЧЕСКИЙ СОВЕТНИК ПРЕЗИДЕНТ ПУТИН АКАДЕМ...</td>\n",
       "      <td>1</td>\n",
       "    </tr>\n",
       "    <tr>\n",
       "      <th>2</th>\n",
       "      <td>2</td>\n",
       "      <td>ГЛАЗЬЕВ В ЧАСТНОСТИ КРИТИКОВАТЬ ДЕНЕЖНЫЙ КРЕД...</td>\n",
       "      <td>0</td>\n",
       "    </tr>\n",
       "    <tr>\n",
       "      <th>3</th>\n",
       "      <td>3</td>\n",
       "      <td>ИМЕННО ЭТОТ МЕХАНИЗМ ЛИШАТЬ СТРАНА ИНВЕСТИЦИЯ...</td>\n",
       "      <td>0</td>\n",
       "    </tr>\n",
       "    <tr>\n",
       "      <th>4</th>\n",
       "      <td>4</td>\n",
       "      <td>В 60-СТРАНИЧНЫЙ ДОКЛАД АКАДЕМИК ГЛАЗЬЕВ НЕ ПР...</td>\n",
       "      <td>0</td>\n",
       "    </tr>\n",
       "  </tbody>\n",
       "</table>\n",
       "</div>"
      ],
      "text/plain": [
       "   Unnamed: 0                                             phrase  label\n",
       "0           0   В КРЕМЛЬ И В БЕЛЫЙ ДОМ НА ПРОШЛЫЙ НЕДЕЛЯ ОБОС...      1\n",
       "1           1   ЭКОНОМИЧЕСКИЙ СОВЕТНИК ПРЕЗИДЕНТ ПУТИН АКАДЕМ...      1\n",
       "2           2   ГЛАЗЬЕВ В ЧАСТНОСТИ КРИТИКОВАТЬ ДЕНЕЖНЫЙ КРЕД...      0\n",
       "3           3   ИМЕННО ЭТОТ МЕХАНИЗМ ЛИШАТЬ СТРАНА ИНВЕСТИЦИЯ...      0\n",
       "4           4   В 60-СТРАНИЧНЫЙ ДОКЛАД АКАДЕМИК ГЛАЗЬЕВ НЕ ПР...      0"
      ]
     },
     "execution_count": 5,
     "metadata": {},
     "output_type": "execute_result"
    }
   ],
   "source": [
    "# переименуем колонку, а то получается ошибка из-за дефиса в одной из следующих ячеек\n",
    "sent_lf_list_df.rename(columns={\"lf-label\": \"label\"}, inplace=True)\n",
    "sent_lf_list_df.head()"
   ]
  },
  {
   "cell_type": "code",
   "execution_count": 6,
   "id": "84565f7f",
   "metadata": {
    "id": "84565f7f"
   },
   "outputs": [],
   "source": [
    "classes = pd.value_counts(sent_lf_list_df[\"label\"])"
   ]
  },
  {
   "cell_type": "code",
   "execution_count": 7,
   "id": "5ee066e2",
   "metadata": {
    "colab": {
     "base_uri": "https://localhost:8080/",
     "height": 443
    },
    "id": "5ee066e2",
    "outputId": "bee5d715-6c78-4e2d-fb62-dc9523ec87d8"
   },
   "outputs": [
    {
     "data": {
      "image/png": "[encoded data removed]",
      "text/plain": [
       "<Figure size 500x500 with 1 Axes>"
      ]
     },
     "metadata": {},
     "output_type": "display_data"
    }
   ],
   "source": [
    "import matplotlib.pyplot as plt\n",
    "classes.plot(kind='pie',figsize=(5,5),autopct='%0.f%%', legend=True, title =\"Распределение классов: 0 = not-LF; 1 = LF\")\n",
    "plt.ylabel('')\n",
    "plt.show()"
   ]
  },
  {
   "cell_type": "code",
   "execution_count": 8,
   "id": "cd0333aa",
   "metadata": {
    "colab": {
     "base_uri": "https://localhost:8080/"
    },
    "id": "cd0333aa",
    "outputId": "f6632c32-01ec-40f1-91ba-82d4a565dfe3"
   },
   "outputs": [
    {
     "data": {
      "text/plain": [
       "0    151940\n",
       "1     62318\n",
       "Name: label, dtype: int64"
      ]
     },
     "execution_count": 8,
     "metadata": {},
     "output_type": "execute_result"
    }
   ],
   "source": [
    "sent_lf_list_df.label.value_counts()"
   ]
  },
  {
   "cell_type": "code",
   "execution_count": 9,
   "id": "73de63f9",
   "metadata": {
    "colab": {
     "base_uri": "https://localhost:8080/",
     "height": 364
    },
    "id": "73de63f9",
    "outputId": "beea8f94-750a-4475-b9cb-5752fbbed2ad"
   },
   "outputs": [],
   "source": [
    "# так сбалансируем классы\n",
    "#data_balanced = sent_lf_list_df[sent_lf_list_df.label == 1].append(sent_lf_list_df[sent_lf_list_df.label == 0].sample(n=2400))"
   ]
  },
  {
   "cell_type": "code",
   "execution_count": 10,
   "id": "8b310f08",
   "metadata": {},
   "outputs": [],
   "source": [
    "# проверяем классы\n",
    "#data_balanced.label.value_counts()"
   ]
  },
  {
   "cell_type": "code",
   "execution_count": 11,
   "id": "88c78e42",
   "metadata": {},
   "outputs": [],
   "source": [
    "#data_balanced.shape"
   ]
  },
  {
   "cell_type": "code",
   "execution_count": 12,
   "id": "dbc40f9b",
   "metadata": {},
   "outputs": [],
   "source": [
    "#type(data_balanced.phrase)"
   ]
  },
  {
   "cell_type": "code",
   "execution_count": 13,
   "id": "8cec5cd5",
   "metadata": {},
   "outputs": [
    {
     "data": {
      "text/plain": [
       "sklearn.feature_extraction.text.CountVectorizer"
      ]
     },
     "execution_count": 13,
     "metadata": {},
     "output_type": "execute_result"
    }
   ],
   "source": [
    "# делаем такой векторизатор, который будет векторизовать тексты, вычеркивая стоп слова - делать tf\n",
    "from sklearn import feature_extraction\n",
    "f = feature_extraction.text.CountVectorizer(stop_words = ['и', 'а', 'я', 'как', 'если', 'всегда', 'что', 'не', 'это'])\n",
    "type(f)"
   ]
  },
  {
   "cell_type": "code",
   "execution_count": 14,
   "id": "082257a9",
   "metadata": {},
   "outputs": [],
   "source": [
    "X = f.fit_transform(sent_lf_list_df[\"phrase\"])"
   ]
  },
  {
   "cell_type": "code",
   "execution_count": 15,
   "id": "db5db565",
   "metadata": {},
   "outputs": [],
   "source": [
    "# разделение на обучающую и тестовую выборку\n",
    "from sklearn.model_selection import train_test_split\n",
    "X_train, X_test, y_train, y_test = train_test_split( X, sent_lf_list_df[\"label\"], test_size=0.15, random_state=25)"
   ]
  },
  {
   "cell_type": "code",
   "execution_count": 16,
   "id": "28c02751",
   "metadata": {},
   "outputs": [],
   "source": [
    "#from sklearn.feature_extraction.text import TfidfVectorizer\n",
    "#vectorizer = TfidfVectorizer(stop_words= ['и', 'а', 'я', 'как', 'если', 'всегда', 'что', 'не', 'это'])\n",
    "#X = vectorizer.fit_transform(data_balanced['phrase'])"
   ]
  },
  {
   "cell_type": "code",
   "execution_count": 17,
   "id": "c267a770",
   "metadata": {},
   "outputs": [],
   "source": [
    "# разделение на обучающую и тестовую выборку\n",
    "#from sklearn.model_selection import train_test_split\n",
    "#X_train, X_test, y_train, y_test = train_test_split( X, data_balanced[\"label\"], test_size=0.15, random_state=25)"
   ]
  },
  {
   "cell_type": "code",
   "execution_count": 18,
   "id": "03b85314",
   "metadata": {},
   "outputs": [],
   "source": [
    "from sklearn.tree import DecisionTreeClassifier"
   ]
  },
  {
   "cell_type": "code",
   "execution_count": 19,
   "id": "9aabe452",
   "metadata": {},
   "outputs": [],
   "source": [
    "tree_clf = DecisionTreeClassifier()"
   ]
  },
  {
   "cell_type": "code",
   "execution_count": 20,
   "id": "babe0e1d",
   "metadata": {
    "scrolled": true
   },
   "outputs": [
    {
     "data": {
      "text/html": [
       "<style>#sk-container-id-1 {color: black;background-color: white;}#sk-container-id-1 pre{padding: 0;}#sk-container-id-1 div.sk-toggleable {background-color: white;}#sk-container-id-1 label.sk-toggleable__label {cursor: pointer;display: block;width: 100%;margin-bottom: 0;padding: 0.3em;box-sizing: border-box;text-align: center;}#sk-container-id-1 label.sk-toggleable__label-arrow:before {content: \"▸\";float: left;margin-right: 0.25em;color: #696969;}#sk-container-id-1 label.sk-toggleable__label-arrow:hover:before {color: black;}#sk-container-id-1 div.sk-estimator:hover label.sk-toggleable__label-arrow:before {color: black;}#sk-container-id-1 div.sk-toggleable__content {max-height: 0;max-width: 0;overflow: hidden;text-align: left;background-color: #f0f8ff;}#sk-container-id-1 div.sk-toggleable__content pre {margin: 0.2em;color: black;border-radius: 0.25em;background-color: #f0f8ff;}#sk-container-id-1 input.sk-toggleable__control:checked~div.sk-toggleable__content {max-height: 200px;max-width: 100%;overflow: auto;}#sk-container-id-1 input.sk-toggleable__control:checked~label.sk-toggleable__label-arrow:before {content: \"▾\";}#sk-container-id-1 div.sk-estimator input.sk-toggleable__control:checked~label.sk-toggleable__label {background-color: #d4ebff;}#sk-container-id-1 div.sk-label input.sk-toggleable__control:checked~label.sk-toggleable__label {background-color: #d4ebff;}#sk-container-id-1 input.sk-hidden--visually {border: 0;clip: rect(1px 1px 1px 1px);clip: rect(1px, 1px, 1px, 1px);height: 1px;margin: -1px;overflow: hidden;padding: 0;position: absolute;width: 1px;}#sk-container-id-1 div.sk-estimator {font-family: monospace;background-color: #f0f8ff;border: 1px dotted black;border-radius: 0.25em;box-sizing: border-box;margin-bottom: 0.5em;}#sk-container-id-1 div.sk-estimator:hover {background-color: #d4ebff;}#sk-container-id-1 div.sk-parallel-item::after {content: \"\";width: 100%;border-bottom: 1px solid gray;flex-grow: 1;}#sk-container-id-1 div.sk-label:hover label.sk-toggleable__label {background-color: #d4ebff;}#sk-container-id-1 div.sk-serial::before {content: \"\";position: absolute;border-left: 1px solid gray;box-sizing: border-box;top: 0;bottom: 0;left: 50%;z-index: 0;}#sk-container-id-1 div.sk-serial {display: flex;flex-direction: column;align-items: center;background-color: white;padding-right: 0.2em;padding-left: 0.2em;position: relative;}#sk-container-id-1 div.sk-item {position: relative;z-index: 1;}#sk-container-id-1 div.sk-parallel {display: flex;align-items: stretch;justify-content: center;background-color: white;position: relative;}#sk-container-id-1 div.sk-item::before, #sk-container-id-1 div.sk-parallel-item::before {content: \"\";position: absolute;border-left: 1px solid gray;box-sizing: border-box;top: 0;bottom: 0;left: 50%;z-index: -1;}#sk-container-id-1 div.sk-parallel-item {display: flex;flex-direction: column;z-index: 1;position: relative;background-color: white;}#sk-container-id-1 div.sk-parallel-item:first-child::after {align-self: flex-end;width: 50%;}#sk-container-id-1 div.sk-parallel-item:last-child::after {align-self: flex-start;width: 50%;}#sk-container-id-1 div.sk-parallel-item:only-child::after {width: 0;}#sk-container-id-1 div.sk-dashed-wrapped {border: 1px dashed gray;margin: 0 0.4em 0.5em 0.4em;box-sizing: border-box;padding-bottom: 0.4em;background-color: white;}#sk-container-id-1 div.sk-label label {font-family: monospace;font-weight: bold;display: inline-block;line-height: 1.2em;}#sk-container-id-1 div.sk-label-container {text-align: center;}#sk-container-id-1 div.sk-container {/* jupyter's `normalize.less` sets `[hidden] { display: none; }` but bootstrap.min.css set `[hidden] { display: none !important; }` so we also need the `!important` here to be able to override the default hidden behavior on the sphinx rendered scikit-learn.org. See: https://github.com/scikit-learn/scikit-learn/issues/21755 */display: inline-block !important;position: relative;}#sk-container-id-1 div.sk-text-repr-fallback {display: none;}</style><div id=\"sk-container-id-1\" class=\"sk-top-container\"><div class=\"sk-text-repr-fallback\"><pre>DecisionTreeClassifier()</pre><b>In a Jupyter environment, please rerun this cell to show the HTML representation or trust the notebook. <br />On GitHub, the HTML representation is unable to render, please try loading this page with nbviewer.org.</b></div><div class=\"sk-container\" hidden><div class=\"sk-item\"><div class=\"sk-estimator sk-toggleable\"><input class=\"sk-toggleable__control sk-hidden--visually\" id=\"sk-estimator-id-1\" type=\"checkbox\" checked><label for=\"sk-estimator-id-1\" class=\"sk-toggleable__label sk-toggleable__label-arrow\">DecisionTreeClassifier</label><div class=\"sk-toggleable__content\"><pre>DecisionTreeClassifier()</pre></div></div></div></div></div>"
      ],
      "text/plain": [
       "DecisionTreeClassifier()"
      ]
     },
     "execution_count": 20,
     "metadata": {},
     "output_type": "execute_result"
    }
   ],
   "source": [
    "tree_clf.fit(X_train, y_train)"
   ]
  },
  {
   "cell_type": "code",
   "execution_count": 21,
   "id": "b08b7a28",
   "metadata": {},
   "outputs": [],
   "source": [
    "tree_y_pred = tree_clf.predict(X_test)"
   ]
  },
  {
   "cell_type": "code",
   "execution_count": 22,
   "id": "7f0a865d",
   "metadata": {},
   "outputs": [
    {
     "data": {
      "text/plain": [
       "32139"
      ]
     },
     "execution_count": 22,
     "metadata": {},
     "output_type": "execute_result"
    }
   ],
   "source": [
    "len(tree_y_pred)"
   ]
  },
  {
   "cell_type": "code",
   "execution_count": 23,
   "id": "d4255f8e",
   "metadata": {},
   "outputs": [
    {
     "data": {
      "text/plain": [
       "array([1, 0, 0, ..., 0, 0, 0])"
      ]
     },
     "execution_count": 23,
     "metadata": {},
     "output_type": "execute_result"
    }
   ],
   "source": [
    "tree_y_pred"
   ]
  },
  {
   "cell_type": "code",
   "execution_count": 24,
   "id": "885d8dc3",
   "metadata": {},
   "outputs": [
    {
     "name": "stdout",
     "output_type": "stream",
     "text": [
      "              precision    recall  f1-score   support\n",
      "\n",
      "           0       0.97      0.98      0.97     22836\n",
      "           1       0.94      0.93      0.93      9303\n",
      "\n",
      "    accuracy                           0.96     32139\n",
      "   macro avg       0.96      0.95      0.95     32139\n",
      "weighted avg       0.96      0.96      0.96     32139\n",
      "\n"
     ]
    }
   ],
   "source": [
    "from sklearn.metrics import classification_report, confusion_matrix\n",
    "print(classification_report(y_test, tree_y_pred))"
   ]
  },
  {
   "cell_type": "code",
   "execution_count": 25,
   "id": "c8f5e999",
   "metadata": {},
   "outputs": [
    {
     "data": {
      "text/plain": [
       "{'0': {'precision': 0.969769464984776,\n",
       "  'recall': 0.9763093361359257,\n",
       "  'f1-score': 0.9730284118186183,\n",
       "  'support': 22836},\n",
       " '1': {'precision': 0.9408678544103181,\n",
       "  'recall': 0.9252929162635709,\n",
       "  'f1-score': 0.9330153912854975,\n",
       "  'support': 9303},\n",
       " 'accuracy': 0.9615420517128722,\n",
       " 'macro avg': {'precision': 0.955318659697547,\n",
       "  'recall': 0.9508011261997483,\n",
       "  'f1-score': 0.9530219015520579,\n",
       "  'support': 32139},\n",
       " 'weighted avg': {'precision': 0.9614035642668265,\n",
       "  'recall': 0.9615420517128722,\n",
       "  'f1-score': 0.9614461867954495,\n",
       "  'support': 32139}}"
      ]
     },
     "execution_count": 25,
     "metadata": {},
     "output_type": "execute_result"
    }
   ],
   "source": [
    "classification_report(y_test, tree_y_pred, output_dict = True)"
   ]
  },
  {
   "cell_type": "code",
   "execution_count": 26,
   "id": "4f12915d",
   "metadata": {},
   "outputs": [
    {
     "data": {
      "text/plain": [
       "str"
      ]
     },
     "execution_count": 26,
     "metadata": {},
     "output_type": "execute_result"
    }
   ],
   "source": [
    "type(classification_report(y_test, tree_y_pred))"
   ]
  },
  {
   "cell_type": "code",
   "execution_count": 27,
   "id": "988f93be",
   "metadata": {},
   "outputs": [
    {
     "data": {
      "text/html": [
       "<div>\n",
       "<style scoped>\n",
       "    .dataframe tbody tr th:only-of-type {\n",
       "        vertical-align: middle;\n",
       "    }\n",
       "\n",
       "    .dataframe tbody tr th {\n",
       "        vertical-align: top;\n",
       "    }\n",
       "\n",
       "    .dataframe thead th {\n",
       "        text-align: right;\n",
       "    }\n",
       "</style>\n",
       "<table border=\"1\" class=\"dataframe\">\n",
       "  <thead>\n",
       "    <tr style=\"text-align: right;\">\n",
       "      <th></th>\n",
       "      <th>0</th>\n",
       "      <th>1</th>\n",
       "      <th>accuracy</th>\n",
       "      <th>macro avg</th>\n",
       "      <th>weighted avg</th>\n",
       "    </tr>\n",
       "  </thead>\n",
       "  <tbody>\n",
       "    <tr>\n",
       "      <th>precision</th>\n",
       "      <td>0.969769</td>\n",
       "      <td>0.940868</td>\n",
       "      <td>0.961542</td>\n",
       "      <td>0.955319</td>\n",
       "      <td>0.961404</td>\n",
       "    </tr>\n",
       "    <tr>\n",
       "      <th>recall</th>\n",
       "      <td>0.976309</td>\n",
       "      <td>0.925293</td>\n",
       "      <td>0.961542</td>\n",
       "      <td>0.950801</td>\n",
       "      <td>0.961542</td>\n",
       "    </tr>\n",
       "    <tr>\n",
       "      <th>f1-score</th>\n",
       "      <td>0.973028</td>\n",
       "      <td>0.933015</td>\n",
       "      <td>0.961542</td>\n",
       "      <td>0.953022</td>\n",
       "      <td>0.961446</td>\n",
       "    </tr>\n",
       "    <tr>\n",
       "      <th>support</th>\n",
       "      <td>22836.000000</td>\n",
       "      <td>9303.000000</td>\n",
       "      <td>0.961542</td>\n",
       "      <td>32139.000000</td>\n",
       "      <td>32139.000000</td>\n",
       "    </tr>\n",
       "  </tbody>\n",
       "</table>\n",
       "</div>"
      ],
      "text/plain": [
       "                      0            1  accuracy     macro avg  weighted avg\n",
       "precision      0.969769     0.940868  0.961542      0.955319      0.961404\n",
       "recall         0.976309     0.925293  0.961542      0.950801      0.961542\n",
       "f1-score       0.973028     0.933015  0.961542      0.953022      0.961446\n",
       "support    22836.000000  9303.000000  0.961542  32139.000000  32139.000000"
      ]
     },
     "execution_count": 27,
     "metadata": {},
     "output_type": "execute_result"
    }
   ],
   "source": [
    "\n",
    "pd.DataFrame.from_dict(classification_report(y_test, tree_y_pred, output_dict = True))"
   ]
  },
  {
   "cell_type": "code",
   "execution_count": 28,
   "id": "bb7dad28",
   "metadata": {},
   "outputs": [
    {
     "name": "stdout",
     "output_type": "stream",
     "text": [
      "[[22295   541]\n",
      " [  695  8608]]\n"
     ]
    }
   ],
   "source": [
    "print(confusion_matrix(y_test, tree_y_pred))"
   ]
  },
  {
   "cell_type": "code",
   "execution_count": 29,
   "id": "77bb6af3",
   "metadata": {},
   "outputs": [
    {
     "data": {
      "text/html": [
       "<div>\n",
       "<style scoped>\n",
       "    .dataframe tbody tr th:only-of-type {\n",
       "        vertical-align: middle;\n",
       "    }\n",
       "\n",
       "    .dataframe tbody tr th {\n",
       "        vertical-align: top;\n",
       "    }\n",
       "\n",
       "    .dataframe thead th {\n",
       "        text-align: right;\n",
       "    }\n",
       "</style>\n",
       "<table border=\"1\" class=\"dataframe\">\n",
       "  <thead>\n",
       "    <tr style=\"text-align: right;\">\n",
       "      <th></th>\n",
       "      <th>Predicted not-LF</th>\n",
       "      <th>Predicted LF</th>\n",
       "    </tr>\n",
       "  </thead>\n",
       "  <tbody>\n",
       "    <tr>\n",
       "      <th>Actual not-LF</th>\n",
       "      <td>22295</td>\n",
       "      <td>541</td>\n",
       "    </tr>\n",
       "    <tr>\n",
       "      <th>Actual LF</th>\n",
       "      <td>695</td>\n",
       "      <td>8608</td>\n",
       "    </tr>\n",
       "  </tbody>\n",
       "</table>\n",
       "</div>"
      ],
      "text/plain": [
       "               Predicted not-LF  Predicted LF\n",
       "Actual not-LF             22295           541\n",
       "Actual LF                   695          8608"
      ]
     },
     "execution_count": 29,
     "metadata": {},
     "output_type": "execute_result"
    }
   ],
   "source": [
    "m_confusion_test = confusion_matrix(y_test, tree_y_pred)\n",
    "pd.DataFrame(data = m_confusion_test, columns = ['Predicted not-LF', 'Predicted LF'],\n",
    "            index = ['Actual not-LF', 'Actual LF'])"
   ]
  },
  {
   "cell_type": "code",
   "execution_count": null,
   "id": "785e6674",
   "metadata": {},
   "outputs": [],
   "source": []
  },
  {
   "cell_type": "code",
   "execution_count": null,
   "id": "71a33bde",
   "metadata": {},
   "outputs": [],
   "source": []
  },
  {
   "cell_type": "code",
   "execution_count": null,
   "id": "6cc201a9",
   "metadata": {},
   "outputs": [],
   "source": []
  },
  {
   "cell_type": "code",
   "execution_count": 30,
   "id": "8bedf594",
   "metadata": {},
   "outputs": [],
   "source": [
    "from sklearn.ensemble import GradientBoostingClassifier"
   ]
  },
  {
   "cell_type": "code",
   "execution_count": 31,
   "id": "fbf63c5c",
   "metadata": {},
   "outputs": [],
   "source": [
    "gb_clf = GradientBoostingClassifier(n_estimators=500, random_state=10, verbose=10)"
   ]
  },
  {
   "cell_type": "code",
   "execution_count": 32,
   "id": "87fe7a5b",
   "metadata": {},
   "outputs": [
    {
     "name": "stdout",
     "output_type": "stream",
     "text": [
      "      Iter       Train Loss   Remaining Time \n",
      "         1           1.1945           16.31m\n",
      "         2           1.1849           16.19m\n",
      "         3           1.1772           16.16m\n",
      "         4           1.1707           16.17m\n",
      "         5           1.1652           16.19m\n",
      "         6           1.1604           16.37m\n",
      "         7           1.1562           16.35m\n",
      "         8           1.1524           16.31m\n",
      "         9           1.1489           16.24m\n",
      "        10           1.1449           16.17m\n",
      "        11           1.1418           16.10m\n",
      "        12           1.1389           16.05m\n",
      "        13           1.1363           16.02m\n",
      "        14           1.1337           15.99m\n",
      "        15           1.1307           15.94m\n",
      "        16           1.1283           15.89m\n",
      "        17           1.1262           15.86m\n",
      "        18           1.1242           15.82m\n",
      "        19           1.1223           15.78m\n",
      "        20           1.1201           15.73m\n",
      "        21           1.1183           15.68m\n",
      "        22           1.1166           15.64m\n",
      "        23           1.1149           15.60m\n",
      "        24           1.1131           15.56m\n",
      "        25           1.1116           15.52m\n",
      "        26           1.1096           15.48m\n",
      "        27           1.1079           15.44m\n",
      "        28           1.1064           15.40m\n",
      "        29           1.1050           15.35m\n",
      "        30           1.1036           15.32m\n",
      "        31           1.1023           15.31m\n",
      "        32           1.1010           15.28m\n",
      "        33           1.0998           15.24m\n",
      "        34           1.0985           15.20m\n",
      "        35           1.0972           15.16m\n",
      "        36           1.0959           15.16m\n",
      "        37           1.0947           15.15m\n",
      "        38           1.0935           15.14m\n",
      "        39           1.0921           15.11m\n",
      "        40           1.0910           15.07m\n",
      "        41           1.0900           15.03m\n",
      "        42           1.0889           14.99m\n",
      "        43           1.0878           14.96m\n",
      "        44           1.0869           14.92m\n",
      "        45           1.0855           14.89m\n",
      "        46           1.0844           14.85m\n",
      "        47           1.0835           14.83m\n",
      "        48           1.0825           14.79m\n",
      "        49           1.0815           14.76m\n",
      "        50           1.0804           14.73m\n",
      "        51           1.0793           14.69m\n",
      "        52           1.0784           14.65m\n",
      "        53           1.0774           14.61m\n",
      "        54           1.0765           14.57m\n",
      "        55           1.0756           14.54m\n",
      "        56           1.0748           14.50m\n",
      "        57           1.0738           14.47m\n",
      "        58           1.0730           14.43m\n",
      "        59           1.0721           14.39m\n",
      "        60           1.0713           14.35m\n",
      "        61           1.0706           14.32m\n",
      "        62           1.0698           14.28m\n",
      "        63           1.0689           14.25m\n",
      "        64           1.0681           14.21m\n",
      "        65           1.0673           14.17m\n",
      "        66           1.0666           14.13m\n",
      "        67           1.0658           14.10m\n",
      "        68           1.0650           14.06m\n",
      "        69           1.0642           14.03m\n",
      "        70           1.0633           13.99m\n",
      "        71           1.0625           13.96m\n",
      "        72           1.0617           13.92m\n",
      "        73           1.0609           13.89m\n",
      "        74           1.0602           13.86m\n",
      "        75           1.0594           13.83m\n",
      "        76           1.0586           13.79m\n",
      "        77           1.0579           13.76m\n",
      "        78           1.0573           13.72m\n",
      "        79           1.0566           13.69m\n",
      "        80           1.0559           13.65m\n",
      "        81           1.0553           13.62m\n",
      "        82           1.0547           13.58m\n",
      "        83           1.0540           13.55m\n",
      "        84           1.0534           13.52m\n",
      "        85           1.0528           13.50m\n",
      "        86           1.0521           13.48m\n",
      "        87           1.0514           13.45m\n",
      "        88           1.0508           13.41m\n",
      "        89           1.0502           13.38m\n",
      "        90           1.0496           13.34m\n",
      "        91           1.0489           13.31m\n",
      "        92           1.0483           13.28m\n",
      "        93           1.0477           13.25m\n",
      "        94           1.0470           13.22m\n",
      "        95           1.0464           13.19m\n",
      "        96           1.0457           13.15m\n",
      "        97           1.0451           13.12m\n",
      "        98           1.0446           13.08m\n",
      "        99           1.0440           13.05m\n",
      "       100           1.0434           13.02m\n",
      "       101           1.0428           12.98m\n",
      "       102           1.0422           12.95m\n",
      "       103           1.0417           12.91m\n",
      "       104           1.0411           12.88m\n",
      "       105           1.0406           12.85m\n",
      "       106           1.0401           12.82m\n",
      "       107           1.0395           12.78m\n",
      "       108           1.0389           12.75m\n",
      "       109           1.0383           12.71m\n",
      "       110           1.0377           12.68m\n",
      "       111           1.0372           12.65m\n",
      "       112           1.0367           12.61m\n",
      "       113           1.0362           12.58m\n",
      "       114           1.0357           12.56m\n",
      "       115           1.0352           12.52m\n",
      "       116           1.0347           12.50m\n",
      "       117           1.0342           12.50m\n",
      "       118           1.0336           12.54m\n",
      "       119           1.0331           12.57m\n",
      "       120           1.0326           12.64m\n",
      "       121           1.0321           12.62m\n",
      "       122           1.0317           12.61m\n",
      "       123           1.0312           12.62m\n",
      "       124           1.0306           12.59m\n",
      "       125           1.0302           12.56m\n",
      "       126           1.0297           12.52m\n",
      "       127           1.0293           12.49m\n",
      "       128           1.0289           12.46m\n",
      "       129           1.0284           12.43m\n",
      "       130           1.0279           12.40m\n",
      "       131           1.0275           12.37m\n",
      "       132           1.0271           12.33m\n",
      "       133           1.0266           12.30m\n",
      "       134           1.0261           12.26m\n",
      "       135           1.0257           12.22m\n",
      "       136           1.0252           12.18m\n",
      "       137           1.0247           12.15m\n",
      "       138           1.0243           12.11m\n",
      "       139           1.0238           12.09m\n",
      "       140           1.0234           12.06m\n",
      "       141           1.0229           12.03m\n",
      "       142           1.0225           11.99m\n",
      "       143           1.0221           11.96m\n",
      "       144           1.0217           11.93m\n",
      "       145           1.0213           11.89m\n",
      "       146           1.0208           11.86m\n",
      "       147           1.0203           11.83m\n",
      "       148           1.0199           11.80m\n",
      "       149           1.0194           11.78m\n",
      "       150           1.0190           11.75m\n",
      "       151           1.0186           11.72m\n",
      "       152           1.0182           11.69m\n",
      "       153           1.0178           11.65m\n",
      "       154           1.0174           11.62m\n",
      "       155           1.0170           11.58m\n",
      "       156           1.0166           11.54m\n",
      "       157           1.0162           11.51m\n",
      "       158           1.0157           11.47m\n",
      "       159           1.0153           11.43m\n",
      "       160           1.0150           11.40m\n",
      "       161           1.0146           11.36m\n",
      "       162           1.0142           11.32m\n",
      "       163           1.0139           11.29m\n",
      "       164           1.0135           11.25m\n",
      "       165           1.0131           11.22m\n",
      "       166           1.0128           11.18m\n",
      "       167           1.0124           11.15m\n",
      "       168           1.0121           11.11m\n",
      "       169           1.0117           11.08m\n",
      "       170           1.0113           11.04m\n",
      "       171           1.0109           11.01m\n",
      "       172           1.0105           10.98m\n",
      "       173           1.0101           10.95m\n",
      "       174           1.0096           10.92m\n",
      "       175           1.0092           10.89m\n",
      "       176           1.0088           10.85m\n",
      "       177           1.0085           10.82m\n",
      "       178           1.0081           10.78m\n",
      "       179           1.0078           10.75m\n",
      "       180           1.0074           10.71m\n",
      "       181           1.0070           10.68m\n",
      "       182           1.0066           10.65m\n"
     ]
    },
    {
     "name": "stdout",
     "output_type": "stream",
     "text": [
      "       183           1.0063           10.62m\n",
      "       184           1.0059           10.59m\n",
      "       185           1.0055           10.56m\n",
      "       186           1.0052           10.53m\n",
      "       187           1.0048           10.50m\n",
      "       188           1.0044           10.46m\n",
      "       189           1.0040           10.43m\n",
      "       190           1.0037           10.40m\n",
      "       191           1.0034           10.36m\n",
      "       192           1.0031           10.33m\n",
      "       193           1.0027           10.29m\n",
      "       194           1.0024           10.26m\n",
      "       195           1.0020           10.22m\n",
      "       196           1.0017           10.19m\n",
      "       197           1.0014           10.15m\n",
      "       198           1.0011           10.12m\n",
      "       199           1.0008           10.08m\n",
      "       200           1.0004           10.04m\n",
      "       201           1.0001           10.01m\n",
      "       202           0.9998            9.97m\n",
      "       203           0.9994            9.94m\n",
      "       204           0.9991            9.90m\n",
      "       205           0.9988            9.87m\n",
      "       206           0.9985            9.83m\n",
      "       207           0.9982            9.80m\n",
      "       208           0.9979            9.76m\n",
      "       209           0.9976            9.72m\n",
      "       210           0.9973            9.69m\n",
      "       211           0.9970            9.66m\n",
      "       212           0.9967            9.62m\n",
      "       213           0.9964            9.59m\n",
      "       214           0.9961            9.55m\n",
      "       215           0.9958            9.52m\n",
      "       216           0.9954            9.48m\n",
      "       217           0.9951            9.45m\n",
      "       218           0.9948            9.41m\n",
      "       219           0.9945            9.38m\n",
      "       220           0.9942            9.34m\n",
      "       221           0.9939            9.31m\n",
      "       222           0.9936            9.27m\n",
      "       223           0.9933            9.24m\n",
      "       224           0.9930            9.20m\n",
      "       225           0.9927            9.17m\n",
      "       226           0.9923            9.13m\n",
      "       227           0.9920            9.10m\n",
      "       228           0.9917            9.06m\n",
      "       229           0.9914            9.03m\n",
      "       230           0.9911            8.99m\n",
      "       231           0.9908            8.96m\n",
      "       232           0.9905            8.93m\n",
      "       233           0.9902            8.89m\n",
      "       234           0.9899            8.86m\n",
      "       235           0.9896            8.82m\n",
      "       236           0.9893            8.79m\n",
      "       237           0.9891            8.75m\n",
      "       238           0.9888            8.72m\n",
      "       239           0.9885            8.68m\n",
      "       240           0.9882            8.65m\n",
      "       241           0.9878            8.61m\n",
      "       242           0.9876            8.58m\n",
      "       243           0.9873            8.54m\n",
      "       244           0.9871            8.51m\n",
      "       245           0.9867            8.48m\n",
      "       246           0.9865            8.44m\n",
      "       247           0.9862            8.41m\n",
      "       248           0.9859            8.37m\n",
      "       249           0.9857            8.34m\n",
      "       250           0.9854            8.30m\n",
      "       251           0.9851            8.27m\n",
      "       252           0.9848            8.24m\n",
      "       253           0.9846            8.20m\n",
      "       254           0.9843            8.17m\n",
      "       255           0.9841            8.13m\n",
      "       256           0.9838            8.10m\n",
      "       257           0.9836            8.07m\n",
      "       258           0.9833            8.03m\n",
      "       259           0.9831            8.00m\n",
      "       260           0.9828            7.96m\n",
      "       261           0.9824            7.93m\n",
      "       262           0.9821            7.89m\n",
      "       263           0.9819            7.86m\n",
      "       264           0.9816            7.83m\n",
      "       265           0.9814            7.79m\n",
      "       266           0.9811            7.76m\n",
      "       267           0.9808            7.72m\n",
      "       268           0.9806            7.69m\n",
      "       269           0.9803            7.66m\n",
      "       270           0.9801            7.62m\n",
      "       271           0.9798            7.59m\n",
      "       272           0.9796            7.55m\n",
      "       273           0.9793            7.52m\n",
      "       274           0.9790            7.49m\n",
      "       275           0.9788            7.45m\n",
      "       276           0.9785            7.42m\n",
      "       277           0.9782            7.38m\n",
      "       278           0.9780            7.35m\n",
      "       279           0.9777            7.32m\n",
      "       280           0.9774            7.28m\n",
      "       281           0.9772            7.25m\n",
      "       282           0.9769            7.21m\n",
      "       283           0.9767            7.18m\n",
      "       284           0.9764            7.15m\n",
      "       285           0.9761            7.11m\n",
      "       286           0.9759            7.08m\n",
      "       287           0.9756            7.04m\n",
      "       288           0.9753            7.01m\n",
      "       289           0.9751            6.98m\n",
      "       290           0.9749            6.94m\n",
      "       291           0.9746            6.91m\n",
      "       292           0.9743            6.88m\n",
      "       293           0.9741            6.84m\n",
      "       294           0.9738            6.81m\n",
      "       295           0.9736            6.77m\n",
      "       296           0.9734            6.74m\n",
      "       297           0.9731            6.71m\n",
      "       298           0.9729            6.67m\n",
      "       299           0.9726            6.64m\n",
      "       300           0.9723            6.61m\n",
      "       301           0.9721            6.57m\n",
      "       302           0.9718            6.54m\n",
      "       303           0.9716            6.50m\n",
      "       304           0.9714            6.47m\n",
      "       305           0.9711            6.44m\n",
      "       306           0.9709            6.40m\n",
      "       307           0.9707            6.37m\n",
      "       308           0.9704            6.34m\n",
      "       309           0.9702            6.30m\n",
      "       310           0.9700            6.27m\n",
      "       311           0.9698            6.24m\n",
      "       312           0.9696            6.20m\n",
      "       313           0.9694            6.17m\n",
      "       314           0.9692            6.13m\n",
      "       315           0.9690            6.10m\n",
      "       316           0.9687            6.07m\n",
      "       317           0.9685            6.03m\n",
      "       318           0.9683            6.00m\n",
      "       319           0.9680            5.97m\n",
      "       320           0.9678            5.93m\n",
      "       321           0.9676            5.90m\n",
      "       322           0.9674            5.87m\n",
      "       323           0.9672            5.83m\n",
      "       324           0.9668            5.80m\n",
      "       325           0.9665            5.77m\n",
      "       326           0.9663            5.73m\n",
      "       327           0.9661            5.70m\n",
      "       328           0.9659            5.67m\n",
      "       329           0.9657            5.63m\n",
      "       330           0.9654            5.60m\n",
      "       331           0.9652            5.57m\n",
      "       332           0.9650            5.53m\n",
      "       333           0.9648            5.50m\n",
      "       334           0.9646            5.47m\n",
      "       335           0.9643            5.43m\n",
      "       336           0.9641            5.40m\n",
      "       337           0.9639            5.37m\n",
      "       338           0.9637            5.33m\n",
      "       339           0.9635            5.30m\n",
      "       340           0.9632            5.27m\n",
      "       341           0.9630            5.23m\n",
      "       342           0.9628            5.20m\n",
      "       343           0.9625            5.17m\n",
      "       344           0.9623            5.13m\n",
      "       345           0.9621            5.10m\n",
      "       346           0.9619            5.07m\n",
      "       347           0.9617            5.03m\n",
      "       348           0.9615            5.00m\n",
      "       349           0.9612            4.97m\n",
      "       350           0.9610            4.93m\n",
      "       351           0.9608            4.90m\n",
      "       352           0.9606            4.87m\n",
      "       353           0.9603            4.83m\n",
      "       354           0.9601            4.80m\n",
      "       355           0.9599            4.77m\n",
      "       356           0.9597            4.73m\n",
      "       357           0.9595            4.70m\n",
      "       358           0.9593            4.67m\n",
      "       359           0.9591            4.63m\n",
      "       360           0.9589            4.60m\n",
      "       361           0.9587            4.57m\n",
      "       362           0.9585            4.53m\n",
      "       363           0.9583            4.50m\n",
      "       364           0.9581            4.47m\n",
      "       365           0.9579            4.43m\n"
     ]
    },
    {
     "name": "stdout",
     "output_type": "stream",
     "text": [
      "       366           0.9577            4.40m\n",
      "       367           0.9575            4.37m\n",
      "       368           0.9572            4.33m\n",
      "       369           0.9570            4.30m\n",
      "       370           0.9568            4.27m\n",
      "       371           0.9565            4.24m\n",
      "       372           0.9563            4.20m\n",
      "       373           0.9561            4.17m\n",
      "       374           0.9559            4.14m\n",
      "       375           0.9556            4.10m\n",
      "       376           0.9554            4.07m\n",
      "       377           0.9552            4.04m\n",
      "       378           0.9550            4.00m\n",
      "       379           0.9548            3.97m\n",
      "       380           0.9545            3.94m\n",
      "       381           0.9544            3.90m\n",
      "       382           0.9542            3.87m\n",
      "       383           0.9540            3.84m\n",
      "       384           0.9538            3.81m\n",
      "       385           0.9536            3.77m\n",
      "       386           0.9534            3.74m\n",
      "       387           0.9532            3.71m\n",
      "       388           0.9530            3.67m\n",
      "       389           0.9529            3.64m\n",
      "       390           0.9527            3.61m\n",
      "       391           0.9525            3.57m\n",
      "       392           0.9523            3.54m\n",
      "       393           0.9521            3.51m\n",
      "       394           0.9519            3.48m\n",
      "       395           0.9518            3.44m\n",
      "       396           0.9516            3.41m\n",
      "       397           0.9514            3.38m\n",
      "       398           0.9513            3.34m\n",
      "       399           0.9511            3.31m\n",
      "       400           0.9509            3.28m\n",
      "       401           0.9507            3.24m\n",
      "       402           0.9505            3.21m\n",
      "       403           0.9504            3.18m\n",
      "       404           0.9502            3.15m\n",
      "       405           0.9500            3.11m\n",
      "       406           0.9498            3.08m\n",
      "       407           0.9495            3.05m\n",
      "       408           0.9493            3.01m\n",
      "       409           0.9492            2.98m\n",
      "       410           0.9489            2.95m\n",
      "       411           0.9487            2.91m\n",
      "       412           0.9485            2.88m\n",
      "       413           0.9484            2.85m\n",
      "       414           0.9482            2.82m\n",
      "       415           0.9480            2.78m\n",
      "       416           0.9478            2.75m\n",
      "       417           0.9476            2.72m\n",
      "       418           0.9474            2.68m\n",
      "       419           0.9472            2.65m\n",
      "       420           0.9470            2.62m\n",
      "       421           0.9468            2.59m\n",
      "       422           0.9466            2.55m\n",
      "       423           0.9465            2.52m\n",
      "       424           0.9463            2.49m\n",
      "       425           0.9461            2.45m\n",
      "       426           0.9459            2.42m\n",
      "       427           0.9458            2.39m\n",
      "       428           0.9456            2.36m\n",
      "       429           0.9454            2.32m\n",
      "       430           0.9452            2.29m\n",
      "       431           0.9450            2.26m\n",
      "       432           0.9448            2.22m\n",
      "       433           0.9446            2.19m\n",
      "       434           0.9445            2.16m\n",
      "       435           0.9443            2.13m\n",
      "       436           0.9441            2.09m\n",
      "       437           0.9439            2.06m\n",
      "       438           0.9437            2.03m\n",
      "       439           0.9435            1.99m\n",
      "       440           0.9434            1.96m\n",
      "       441           0.9432            1.93m\n",
      "       442           0.9430            1.90m\n",
      "       443           0.9429            1.86m\n",
      "       444           0.9427            1.83m\n",
      "       445           0.9425            1.80m\n",
      "       446           0.9423            1.77m\n",
      "       447           0.9421            1.73m\n",
      "       448           0.9419            1.70m\n",
      "       449           0.9418            1.67m\n",
      "       450           0.9416            1.63m\n",
      "       451           0.9414            1.60m\n",
      "       452           0.9412            1.57m\n",
      "       453           0.9410            1.54m\n",
      "       454           0.9409            1.50m\n",
      "       455           0.9407            1.47m\n",
      "       456           0.9405            1.44m\n",
      "       457           0.9404            1.41m\n",
      "       458           0.9402            1.37m\n",
      "       459           0.9401            1.34m\n",
      "       460           0.9399            1.31m\n",
      "       461           0.9398            1.27m\n",
      "       462           0.9396            1.24m\n",
      "       463           0.9394            1.21m\n",
      "       464           0.9393            1.18m\n",
      "       465           0.9391            1.14m\n",
      "       466           0.9389            1.11m\n",
      "       467           0.9387            1.08m\n",
      "       468           0.9385            1.05m\n",
      "       469           0.9384            1.01m\n",
      "       470           0.9382           58.81s\n",
      "       471           0.9380           56.84s\n",
      "       472           0.9379           54.88s\n",
      "       473           0.9377           52.92s\n",
      "       474           0.9375           50.96s\n",
      "       475           0.9374           48.99s\n",
      "       476           0.9372           47.03s\n",
      "       477           0.9370           45.07s\n",
      "       478           0.9369           43.11s\n",
      "       479           0.9367           41.15s\n",
      "       480           0.9366           39.19s\n",
      "       481           0.9364           37.23s\n",
      "       482           0.9362           35.27s\n",
      "       483           0.9361           33.31s\n",
      "       484           0.9359           31.35s\n",
      "       485           0.9357           29.39s\n",
      "       486           0.9356           27.43s\n",
      "       487           0.9354           25.47s\n",
      "       488           0.9352           23.51s\n",
      "       489           0.9351           21.55s\n",
      "       490           0.9349           19.59s\n",
      "       491           0.9347           17.63s\n",
      "       492           0.9346           15.67s\n",
      "       493           0.9344           13.71s\n",
      "       494           0.9343           11.75s\n",
      "       495           0.9341            9.80s\n",
      "       496           0.9339            7.84s\n",
      "       497           0.9338            5.88s\n",
      "       498           0.9336            3.92s\n",
      "       499           0.9334            1.96s\n",
      "       500           0.9332            0.00s\n"
     ]
    },
    {
     "data": {
      "text/html": [
       "<style>#sk-container-id-2 {color: black;background-color: white;}#sk-container-id-2 pre{padding: 0;}#sk-container-id-2 div.sk-toggleable {background-color: white;}#sk-container-id-2 label.sk-toggleable__label {cursor: pointer;display: block;width: 100%;margin-bottom: 0;padding: 0.3em;box-sizing: border-box;text-align: center;}#sk-container-id-2 label.sk-toggleable__label-arrow:before {content: \"▸\";float: left;margin-right: 0.25em;color: #696969;}#sk-container-id-2 label.sk-toggleable__label-arrow:hover:before {color: black;}#sk-container-id-2 div.sk-estimator:hover label.sk-toggleable__label-arrow:before {color: black;}#sk-container-id-2 div.sk-toggleable__content {max-height: 0;max-width: 0;overflow: hidden;text-align: left;background-color: #f0f8ff;}#sk-container-id-2 div.sk-toggleable__content pre {margin: 0.2em;color: black;border-radius: 0.25em;background-color: #f0f8ff;}#sk-container-id-2 input.sk-toggleable__control:checked~div.sk-toggleable__content {max-height: 200px;max-width: 100%;overflow: auto;}#sk-container-id-2 input.sk-toggleable__control:checked~label.sk-toggleable__label-arrow:before {content: \"▾\";}#sk-container-id-2 div.sk-estimator input.sk-toggleable__control:checked~label.sk-toggleable__label {background-color: #d4ebff;}#sk-container-id-2 div.sk-label input.sk-toggleable__control:checked~label.sk-toggleable__label {background-color: #d4ebff;}#sk-container-id-2 input.sk-hidden--visually {border: 0;clip: rect(1px 1px 1px 1px);clip: rect(1px, 1px, 1px, 1px);height: 1px;margin: -1px;overflow: hidden;padding: 0;position: absolute;width: 1px;}#sk-container-id-2 div.sk-estimator {font-family: monospace;background-color: #f0f8ff;border: 1px dotted black;border-radius: 0.25em;box-sizing: border-box;margin-bottom: 0.5em;}#sk-container-id-2 div.sk-estimator:hover {background-color: #d4ebff;}#sk-container-id-2 div.sk-parallel-item::after {content: \"\";width: 100%;border-bottom: 1px solid gray;flex-grow: 1;}#sk-container-id-2 div.sk-label:hover label.sk-toggleable__label {background-color: #d4ebff;}#sk-container-id-2 div.sk-serial::before {content: \"\";position: absolute;border-left: 1px solid gray;box-sizing: border-box;top: 0;bottom: 0;left: 50%;z-index: 0;}#sk-container-id-2 div.sk-serial {display: flex;flex-direction: column;align-items: center;background-color: white;padding-right: 0.2em;padding-left: 0.2em;position: relative;}#sk-container-id-2 div.sk-item {position: relative;z-index: 1;}#sk-container-id-2 div.sk-parallel {display: flex;align-items: stretch;justify-content: center;background-color: white;position: relative;}#sk-container-id-2 div.sk-item::before, #sk-container-id-2 div.sk-parallel-item::before {content: \"\";position: absolute;border-left: 1px solid gray;box-sizing: border-box;top: 0;bottom: 0;left: 50%;z-index: -1;}#sk-container-id-2 div.sk-parallel-item {display: flex;flex-direction: column;z-index: 1;position: relative;background-color: white;}#sk-container-id-2 div.sk-parallel-item:first-child::after {align-self: flex-end;width: 50%;}#sk-container-id-2 div.sk-parallel-item:last-child::after {align-self: flex-start;width: 50%;}#sk-container-id-2 div.sk-parallel-item:only-child::after {width: 0;}#sk-container-id-2 div.sk-dashed-wrapped {border: 1px dashed gray;margin: 0 0.4em 0.5em 0.4em;box-sizing: border-box;padding-bottom: 0.4em;background-color: white;}#sk-container-id-2 div.sk-label label {font-family: monospace;font-weight: bold;display: inline-block;line-height: 1.2em;}#sk-container-id-2 div.sk-label-container {text-align: center;}#sk-container-id-2 div.sk-container {/* jupyter's `normalize.less` sets `[hidden] { display: none; }` but bootstrap.min.css set `[hidden] { display: none !important; }` so we also need the `!important` here to be able to override the default hidden behavior on the sphinx rendered scikit-learn.org. See: https://github.com/scikit-learn/scikit-learn/issues/21755 */display: inline-block !important;position: relative;}#sk-container-id-2 div.sk-text-repr-fallback {display: none;}</style><div id=\"sk-container-id-2\" class=\"sk-top-container\"><div class=\"sk-text-repr-fallback\"><pre>GradientBoostingClassifier(n_estimators=500, random_state=10, verbose=10)</pre><b>In a Jupyter environment, please rerun this cell to show the HTML representation or trust the notebook. <br />On GitHub, the HTML representation is unable to render, please try loading this page with nbviewer.org.</b></div><div class=\"sk-container\" hidden><div class=\"sk-item\"><div class=\"sk-estimator sk-toggleable\"><input class=\"sk-toggleable__control sk-hidden--visually\" id=\"sk-estimator-id-2\" type=\"checkbox\" checked><label for=\"sk-estimator-id-2\" class=\"sk-toggleable__label sk-toggleable__label-arrow\">GradientBoostingClassifier</label><div class=\"sk-toggleable__content\"><pre>GradientBoostingClassifier(n_estimators=500, random_state=10, verbose=10)</pre></div></div></div></div></div>"
      ],
      "text/plain": [
       "GradientBoostingClassifier(n_estimators=500, random_state=10, verbose=10)"
      ]
     },
     "execution_count": 32,
     "metadata": {},
     "output_type": "execute_result"
    }
   ],
   "source": [
    "gb_clf.fit(X_train, y_train)"
   ]
  },
  {
   "cell_type": "code",
   "execution_count": 33,
   "id": "8440a6e1",
   "metadata": {},
   "outputs": [],
   "source": [
    "gb_y_pred = gb_clf.predict(X_test)"
   ]
  },
  {
   "cell_type": "code",
   "execution_count": 34,
   "id": "ef14c440",
   "metadata": {},
   "outputs": [
    {
     "name": "stdout",
     "output_type": "stream",
     "text": [
      "              precision    recall  f1-score   support\n",
      "\n",
      "           0       0.78      0.95      0.86     22836\n",
      "           1       0.75      0.35      0.48      9303\n",
      "\n",
      "    accuracy                           0.78     32139\n",
      "   macro avg       0.77      0.65      0.67     32139\n",
      "weighted avg       0.77      0.78      0.75     32139\n",
      "\n"
     ]
    }
   ],
   "source": [
    "print(classification_report(y_test, gb_y_pred))"
   ]
  },
  {
   "cell_type": "code",
   "execution_count": 35,
   "id": "ff6bc866",
   "metadata": {},
   "outputs": [
    {
     "name": "stdout",
     "output_type": "stream",
     "text": [
      "[[21739  1097]\n",
      " [ 6029  3274]]\n"
     ]
    }
   ],
   "source": [
    "print(confusion_matrix(y_test, gb_y_pred))"
   ]
  },
  {
   "cell_type": "code",
   "execution_count": null,
   "id": "41c4413e",
   "metadata": {},
   "outputs": [],
   "source": []
  },
  {
   "cell_type": "code",
   "execution_count": null,
   "id": "d5e885fb",
   "metadata": {},
   "outputs": [],
   "source": []
  },
  {
   "cell_type": "code",
   "execution_count": 36,
   "id": "bb517b4e",
   "metadata": {},
   "outputs": [],
   "source": [
    "gb_clf_es = GradientBoostingClassifier(n_iter_no_change=20, verbose=1)"
   ]
  },
  {
   "cell_type": "code",
   "execution_count": 37,
   "id": "390b9800",
   "metadata": {},
   "outputs": [
    {
     "name": "stdout",
     "output_type": "stream",
     "text": [
      "      Iter       Train Loss   Remaining Time \n",
      "         1           1.1943            4.11m\n",
      "         2           1.1847            4.07m\n",
      "         3           1.1769            4.02m\n",
      "         4           1.1704            4.02m\n",
      "         5           1.1649            3.97m\n",
      "         6           1.1601            3.91m\n",
      "         7           1.1558            3.87m\n",
      "         8           1.1519            3.82m\n",
      "         9           1.1484            3.78m\n",
      "        10           1.1448            3.73m\n",
      "        20           1.1191            3.33m\n",
      "        30           1.1030            2.93m\n",
      "        40           1.0904            2.50m\n",
      "        50           1.0797            2.08m\n",
      "        60           1.0706            1.66m\n",
      "        70           1.0625            1.25m\n",
      "        80           1.0553           50.09s\n",
      "        90           1.0488           25.03s\n",
      "       100           1.0427            0.00s\n"
     ]
    },
    {
     "data": {
      "text/html": [
       "<style>#sk-container-id-3 {color: black;background-color: white;}#sk-container-id-3 pre{padding: 0;}#sk-container-id-3 div.sk-toggleable {background-color: white;}#sk-container-id-3 label.sk-toggleable__label {cursor: pointer;display: block;width: 100%;margin-bottom: 0;padding: 0.3em;box-sizing: border-box;text-align: center;}#sk-container-id-3 label.sk-toggleable__label-arrow:before {content: \"▸\";float: left;margin-right: 0.25em;color: #696969;}#sk-container-id-3 label.sk-toggleable__label-arrow:hover:before {color: black;}#sk-container-id-3 div.sk-estimator:hover label.sk-toggleable__label-arrow:before {color: black;}#sk-container-id-3 div.sk-toggleable__content {max-height: 0;max-width: 0;overflow: hidden;text-align: left;background-color: #f0f8ff;}#sk-container-id-3 div.sk-toggleable__content pre {margin: 0.2em;color: black;border-radius: 0.25em;background-color: #f0f8ff;}#sk-container-id-3 input.sk-toggleable__control:checked~div.sk-toggleable__content {max-height: 200px;max-width: 100%;overflow: auto;}#sk-container-id-3 input.sk-toggleable__control:checked~label.sk-toggleable__label-arrow:before {content: \"▾\";}#sk-container-id-3 div.sk-estimator input.sk-toggleable__control:checked~label.sk-toggleable__label {background-color: #d4ebff;}#sk-container-id-3 div.sk-label input.sk-toggleable__control:checked~label.sk-toggleable__label {background-color: #d4ebff;}#sk-container-id-3 input.sk-hidden--visually {border: 0;clip: rect(1px 1px 1px 1px);clip: rect(1px, 1px, 1px, 1px);height: 1px;margin: -1px;overflow: hidden;padding: 0;position: absolute;width: 1px;}#sk-container-id-3 div.sk-estimator {font-family: monospace;background-color: #f0f8ff;border: 1px dotted black;border-radius: 0.25em;box-sizing: border-box;margin-bottom: 0.5em;}#sk-container-id-3 div.sk-estimator:hover {background-color: #d4ebff;}#sk-container-id-3 div.sk-parallel-item::after {content: \"\";width: 100%;border-bottom: 1px solid gray;flex-grow: 1;}#sk-container-id-3 div.sk-label:hover label.sk-toggleable__label {background-color: #d4ebff;}#sk-container-id-3 div.sk-serial::before {content: \"\";position: absolute;border-left: 1px solid gray;box-sizing: border-box;top: 0;bottom: 0;left: 50%;z-index: 0;}#sk-container-id-3 div.sk-serial {display: flex;flex-direction: column;align-items: center;background-color: white;padding-right: 0.2em;padding-left: 0.2em;position: relative;}#sk-container-id-3 div.sk-item {position: relative;z-index: 1;}#sk-container-id-3 div.sk-parallel {display: flex;align-items: stretch;justify-content: center;background-color: white;position: relative;}#sk-container-id-3 div.sk-item::before, #sk-container-id-3 div.sk-parallel-item::before {content: \"\";position: absolute;border-left: 1px solid gray;box-sizing: border-box;top: 0;bottom: 0;left: 50%;z-index: -1;}#sk-container-id-3 div.sk-parallel-item {display: flex;flex-direction: column;z-index: 1;position: relative;background-color: white;}#sk-container-id-3 div.sk-parallel-item:first-child::after {align-self: flex-end;width: 50%;}#sk-container-id-3 div.sk-parallel-item:last-child::after {align-self: flex-start;width: 50%;}#sk-container-id-3 div.sk-parallel-item:only-child::after {width: 0;}#sk-container-id-3 div.sk-dashed-wrapped {border: 1px dashed gray;margin: 0 0.4em 0.5em 0.4em;box-sizing: border-box;padding-bottom: 0.4em;background-color: white;}#sk-container-id-3 div.sk-label label {font-family: monospace;font-weight: bold;display: inline-block;line-height: 1.2em;}#sk-container-id-3 div.sk-label-container {text-align: center;}#sk-container-id-3 div.sk-container {/* jupyter's `normalize.less` sets `[hidden] { display: none; }` but bootstrap.min.css set `[hidden] { display: none !important; }` so we also need the `!important` here to be able to override the default hidden behavior on the sphinx rendered scikit-learn.org. See: https://github.com/scikit-learn/scikit-learn/issues/21755 */display: inline-block !important;position: relative;}#sk-container-id-3 div.sk-text-repr-fallback {display: none;}</style><div id=\"sk-container-id-3\" class=\"sk-top-container\"><div class=\"sk-text-repr-fallback\"><pre>GradientBoostingClassifier(n_iter_no_change=20, verbose=1)</pre><b>In a Jupyter environment, please rerun this cell to show the HTML representation or trust the notebook. <br />On GitHub, the HTML representation is unable to render, please try loading this page with nbviewer.org.</b></div><div class=\"sk-container\" hidden><div class=\"sk-item\"><div class=\"sk-estimator sk-toggleable\"><input class=\"sk-toggleable__control sk-hidden--visually\" id=\"sk-estimator-id-3\" type=\"checkbox\" checked><label for=\"sk-estimator-id-3\" class=\"sk-toggleable__label sk-toggleable__label-arrow\">GradientBoostingClassifier</label><div class=\"sk-toggleable__content\"><pre>GradientBoostingClassifier(n_iter_no_change=20, verbose=1)</pre></div></div></div></div></div>"
      ],
      "text/plain": [
       "GradientBoostingClassifier(n_iter_no_change=20, verbose=1)"
      ]
     },
     "execution_count": 37,
     "metadata": {},
     "output_type": "execute_result"
    }
   ],
   "source": [
    "gb_clf_es.fit(X_train, y_train)"
   ]
  },
  {
   "cell_type": "code",
   "execution_count": 38,
   "id": "74288158",
   "metadata": {},
   "outputs": [],
   "source": [
    "es_y_pred = gb_clf_es.predict(X_test)"
   ]
  },
  {
   "cell_type": "code",
   "execution_count": 39,
   "id": "0e09ce96",
   "metadata": {
    "scrolled": true
   },
   "outputs": [
    {
     "name": "stdout",
     "output_type": "stream",
     "text": [
      "              precision    recall  f1-score   support\n",
      "\n",
      "           0       0.75      0.97      0.85     22836\n",
      "           1       0.74      0.21      0.32      9303\n",
      "\n",
      "    accuracy                           0.75     32139\n",
      "   macro avg       0.75      0.59      0.58     32139\n",
      "weighted avg       0.75      0.75      0.69     32139\n",
      "\n"
     ]
    }
   ],
   "source": [
    "print(classification_report(y_test, es_y_pred))"
   ]
  },
  {
   "cell_type": "code",
   "execution_count": 40,
   "id": "d8439ba5",
   "metadata": {},
   "outputs": [
    {
     "name": "stdout",
     "output_type": "stream",
     "text": [
      "[[22172   664]\n",
      " [ 7383  1920]]\n"
     ]
    }
   ],
   "source": [
    "print(confusion_matrix(y_test, es_y_pred))"
   ]
  },
  {
   "cell_type": "code",
   "execution_count": null,
   "id": "b7f6e42b",
   "metadata": {},
   "outputs": [],
   "source": []
  }
 ],
 "metadata": {
  "colab": {
   "provenance": []
  },
  "kernelspec": {
   "display_name": "Python 3 (ipykernel)",
   "language": "python",
   "name": "python3"
  },
  "language_info": {
   "codemirror_mode": {
    "name": "ipython",
    "version": 3
   },
   "file_extension": ".py",
   "mimetype": "text/x-python",
   "name": "python",
   "nbconvert_exporter": "python",
   "pygments_lexer": "ipython3",
   "version": "3.10.10"
  }
 },
 "nbformat": 4,
 "nbformat_minor": 5
}
